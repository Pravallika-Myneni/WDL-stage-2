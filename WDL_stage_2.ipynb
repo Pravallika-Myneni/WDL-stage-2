{
  "nbformat": 4,
  "nbformat_minor": 0,
  "metadata": {
    "colab": {
      "name": "WDL-stage-2.ipynb",
      "provenance": [],
      "collapsed_sections": []
    },
    "kernelspec": {
      "name": "python3",
      "display_name": "Python 3"
    },
    "language_info": {
      "name": "python"
    }
  },
  "cells": [
    {
      "cell_type": "markdown",
      "metadata": {
        "id": "JeP6xkRIBJco"
      },
      "source": [
        "# World Data League 2021\n",
        "## Notebook Template\n",
        "\n",
        "This notebook is one of the mandatory deliverables when you submit your solution (alongside the video pitch). Its structure follows the WDL evaluation criteria and it has dedicated cells where you can add descriptions. Make sure your code is readable as it will be the only technical support the jury will have to evaluate your work.\n",
        "\n",
        "The notebook must:\n",
        "\n",
        "*   💻 have all the code that you want the jury to evaluate\n",
        "*   🧱 follow the predefined structure\n",
        "*   📄 have markdown descriptions where you find necessary\n",
        "*   👀 be saved with all the output that you want the jury to see\n",
        "*   🏃‍♂️ be runnable\n"
      ]
    },
    {
      "cell_type": "markdown",
      "metadata": {
        "id": "1QNcZrkVu9xf"
      },
      "source": [
        "## External links and resources\n",
        "Paste here all the links to external resources that are necessary to understand and run your code. Add descriptions to make it clear how to use them during evaluation."
      ]
    },
    {
      "cell_type": "markdown",
      "metadata": {
        "id": "AQDK7XoSFDXP"
      },
      "source": [
        "https://www.kdnuggets.com/2017/10/7-techniques-visualize-geospatial-data.html"
      ]
    },
    {
      "cell_type": "markdown",
      "metadata": {
        "id": "CsbgAioOb93v"
      },
      "source": [
        "https://www.analyticsvidhya.com/blog/2020/06/guide-geospatial-analysis-folium-python/\n"
      ]
    },
    {
      "cell_type": "markdown",
      "metadata": {
        "id": "4Anx9cIyElpp"
      },
      "source": [
        "https://towardsdatascience.com/visualizing-spatial-data-with-geojson-heatmaps-1fbe2063ab86"
      ]
    },
    {
      "cell_type": "markdown",
      "metadata": {
        "id": "JqrGsnvvQIEW"
      },
      "source": [
        "https://www.openstreetmap.org/search?query=portugal#map=6/36.234/-18.873"
      ]
    },
    {
      "cell_type": "markdown",
      "metadata": {
        "id": "VJzSXXIYvxf9"
      },
      "source": [
        "https://colab.research.google.com/github/shakasom/GDS/blob/master/Part1%20-%20Introduction.ipynb"
      ]
    },
    {
      "cell_type": "markdown",
      "metadata": {
        "id": "63ltgxp_rOpI"
      },
      "source": [
        "## Introduction\n",
        "Describe how you framed the challenge by telling us what problem are you trying to solve and how your solution solves that problem."
      ]
    },
    {
      "cell_type": "markdown",
      "metadata": {
        "id": "Hp34gOznrwrq"
      },
      "source": [
        ""
      ]
    },
    {
      "cell_type": "markdown",
      "metadata": {
        "id": "C8rCpNajszur"
      },
      "source": [
        "## Development\n",
        "Start coding here! 👩‍💻\n",
        "\n",
        "Don't hesitate to create markdown cells to include descriptions of your work where you see fit, as well as commenting your code.\n",
        "\n",
        "We know that you know exactly where to start when it comes to crunching data and building models, but don't forget that WDL is all about social impact...so take that into consideration as well."
      ]
    },
    {
      "cell_type": "markdown",
      "metadata": {
        "id": "CVHgvpjOxobm"
      },
      "source": [
        "### Installing the libraries required"
      ]
    },
    {
      "cell_type": "code",
      "metadata": {
        "colab": {
          "base_uri": "https://localhost:8080/"
        },
        "id": "c0ValYtzxmMI",
        "outputId": "5093fe6c-6c5b-466d-c513-a25738f44123"
      },
      "source": [
        "%%time \n",
        "\n",
        "# Important library for many geopython libraries\n",
        "!apt install gdal-bin python-gdal python3-gdal \n",
        "# Install rtree - Geopandas requirment\n",
        "!apt install python3-rtree \n",
        "# Install Geopandas\n",
        "!pip install git+git://github.com/geopandas/geopandas.git\n",
        "# Install descartes - Geopandas requirment\n",
        "!pip install descartes \n",
        "# Install Folium for Geographic data visualization\n",
        "!pip install folium\n",
        "# Install plotlyExpress\n",
        "!pip install plotly_express"
      ],
      "execution_count": null,
      "outputs": [
        {
          "output_type": "stream",
          "text": [
            "Reading package lists... Done\n",
            "Building dependency tree       \n",
            "Reading state information... Done\n",
            "gdal-bin is already the newest version (2.2.3+dfsg-2).\n",
            "python-gdal is already the newest version (2.2.3+dfsg-2).\n",
            "The following package was automatically installed and is no longer required:\n",
            "  libnvidia-common-460\n",
            "Use 'apt autoremove' to remove it.\n",
            "The following additional packages will be installed:\n",
            "  python3-numpy\n",
            "Suggested packages:\n",
            "  python-numpy-doc python3-nose python3-numpy-dbg\n",
            "The following NEW packages will be installed:\n",
            "  python3-gdal python3-numpy\n",
            "0 upgraded, 2 newly installed, 0 to remove and 34 not upgraded.\n",
            "Need to get 2,288 kB of archives.\n",
            "After this operation, 13.2 MB of additional disk space will be used.\n",
            "Get:1 http://archive.ubuntu.com/ubuntu bionic/main amd64 python3-numpy amd64 1:1.13.3-2ubuntu1 [1,943 kB]\n",
            "Get:2 http://archive.ubuntu.com/ubuntu bionic/universe amd64 python3-gdal amd64 2.2.3+dfsg-2 [346 kB]\n",
            "Fetched 2,288 kB in 2s (925 kB/s)\n",
            "Selecting previously unselected package python3-numpy.\n",
            "(Reading database ... 160690 files and directories currently installed.)\n",
            "Preparing to unpack .../python3-numpy_1%3a1.13.3-2ubuntu1_amd64.deb ...\n",
            "Unpacking python3-numpy (1:1.13.3-2ubuntu1) ...\n",
            "Selecting previously unselected package python3-gdal.\n",
            "Preparing to unpack .../python3-gdal_2.2.3+dfsg-2_amd64.deb ...\n",
            "Unpacking python3-gdal (2.2.3+dfsg-2) ...\n",
            "Setting up python3-numpy (1:1.13.3-2ubuntu1) ...\n",
            "Setting up python3-gdal (2.2.3+dfsg-2) ...\n",
            "Processing triggers for man-db (2.8.3-2ubuntu0.1) ...\n",
            "Reading package lists... Done\n",
            "Building dependency tree       \n",
            "Reading state information... Done\n",
            "The following package was automatically installed and is no longer required:\n",
            "  libnvidia-common-460\n",
            "Use 'apt autoremove' to remove it.\n",
            "The following additional packages will be installed:\n",
            "  libspatialindex-c4v5 libspatialindex-dev libspatialindex4v5\n",
            "  python3-pkg-resources\n",
            "Suggested packages:\n",
            "  python3-setuptools\n",
            "The following NEW packages will be installed:\n",
            "  libspatialindex-c4v5 libspatialindex-dev libspatialindex4v5\n",
            "  python3-pkg-resources python3-rtree\n",
            "0 upgraded, 5 newly installed, 0 to remove and 34 not upgraded.\n",
            "Need to get 671 kB of archives.\n",
            "After this operation, 3,948 kB of additional disk space will be used.\n",
            "Get:1 http://archive.ubuntu.com/ubuntu bionic/universe amd64 libspatialindex4v5 amd64 1.8.5-5 [219 kB]\n",
            "Get:2 http://archive.ubuntu.com/ubuntu bionic/universe amd64 libspatialindex-c4v5 amd64 1.8.5-5 [51.7 kB]\n",
            "Get:3 http://archive.ubuntu.com/ubuntu bionic/main amd64 python3-pkg-resources all 39.0.1-2 [98.8 kB]\n",
            "Get:4 http://archive.ubuntu.com/ubuntu bionic/universe amd64 libspatialindex-dev amd64 1.8.5-5 [285 kB]\n",
            "Get:5 http://archive.ubuntu.com/ubuntu bionic/universe amd64 python3-rtree all 0.8.3+ds-1 [16.9 kB]\n",
            "Fetched 671 kB in 2s (301 kB/s)\n",
            "Selecting previously unselected package libspatialindex4v5:amd64.\n",
            "(Reading database ... 161100 files and directories currently installed.)\n",
            "Preparing to unpack .../libspatialindex4v5_1.8.5-5_amd64.deb ...\n",
            "Unpacking libspatialindex4v5:amd64 (1.8.5-5) ...\n",
            "Selecting previously unselected package libspatialindex-c4v5:amd64.\n",
            "Preparing to unpack .../libspatialindex-c4v5_1.8.5-5_amd64.deb ...\n",
            "Unpacking libspatialindex-c4v5:amd64 (1.8.5-5) ...\n",
            "Selecting previously unselected package python3-pkg-resources.\n",
            "Preparing to unpack .../python3-pkg-resources_39.0.1-2_all.deb ...\n",
            "Unpacking python3-pkg-resources (39.0.1-2) ...\n",
            "Selecting previously unselected package libspatialindex-dev:amd64.\n",
            "Preparing to unpack .../libspatialindex-dev_1.8.5-5_amd64.deb ...\n",
            "Unpacking libspatialindex-dev:amd64 (1.8.5-5) ...\n",
            "Selecting previously unselected package python3-rtree.\n",
            "Preparing to unpack .../python3-rtree_0.8.3+ds-1_all.deb ...\n",
            "Unpacking python3-rtree (0.8.3+ds-1) ...\n",
            "Setting up libspatialindex4v5:amd64 (1.8.5-5) ...\n",
            "Setting up python3-pkg-resources (39.0.1-2) ...\n",
            "Setting up libspatialindex-c4v5:amd64 (1.8.5-5) ...\n",
            "Setting up libspatialindex-dev:amd64 (1.8.5-5) ...\n",
            "Setting up python3-rtree (0.8.3+ds-1) ...\n",
            "Processing triggers for libc-bin (2.27-3ubuntu1.2) ...\n",
            "/sbin/ldconfig.real: /usr/local/lib/python3.7/dist-packages/ideep4py/lib/libmkldnn.so.0 is not a symbolic link\n",
            "\n",
            "Collecting git+git://github.com/geopandas/geopandas.git\n",
            "  Cloning git://github.com/geopandas/geopandas.git to /tmp/pip-req-build-9ebt7if6\n",
            "  Running command git clone -q git://github.com/geopandas/geopandas.git /tmp/pip-req-build-9ebt7if6\n",
            "Requirement already satisfied: pandas>=0.24.0 in /usr/local/lib/python3.7/dist-packages (from geopandas==0.9.0+14.g294ba75) (1.1.5)\n",
            "Requirement already satisfied: shapely>=1.6 in /usr/local/lib/python3.7/dist-packages (from geopandas==0.9.0+14.g294ba75) (1.7.1)\n",
            "Collecting fiona>=1.8\n",
            "\u001b[?25l  Downloading https://files.pythonhosted.org/packages/ea/2a/404b22883298a3efe9c6ef8d67acbf2c38443fa366ee9cd4cd34e17626ea/Fiona-1.8.19-cp37-cp37m-manylinux1_x86_64.whl (15.3MB)\n",
            "\u001b[K     |████████████████████████████████| 15.3MB 324kB/s \n",
            "\u001b[?25hCollecting pyproj>=2.2.0\n",
            "\u001b[?25l  Downloading https://files.pythonhosted.org/packages/b1/72/d52e9ca81caef056062d71991b0e9b1d16af042245627c5d0e4916a36c4f/pyproj-3.0.1-cp37-cp37m-manylinux2010_x86_64.whl (6.5MB)\n",
            "\u001b[K     |████████████████████████████████| 6.5MB 20.4MB/s \n",
            "\u001b[?25hRequirement already satisfied: numpy>=1.15.4 in /usr/local/lib/python3.7/dist-packages (from pandas>=0.24.0->geopandas==0.9.0+14.g294ba75) (1.19.5)\n",
            "Requirement already satisfied: python-dateutil>=2.7.3 in /usr/local/lib/python3.7/dist-packages (from pandas>=0.24.0->geopandas==0.9.0+14.g294ba75) (2.8.1)\n",
            "Requirement already satisfied: pytz>=2017.2 in /usr/local/lib/python3.7/dist-packages (from pandas>=0.24.0->geopandas==0.9.0+14.g294ba75) (2018.9)\n",
            "Requirement already satisfied: attrs>=17 in /usr/local/lib/python3.7/dist-packages (from fiona>=1.8->geopandas==0.9.0+14.g294ba75) (20.3.0)\n",
            "Requirement already satisfied: six>=1.7 in /usr/local/lib/python3.7/dist-packages (from fiona>=1.8->geopandas==0.9.0+14.g294ba75) (1.15.0)\n",
            "Collecting munch\n",
            "  Downloading https://files.pythonhosted.org/packages/cc/ab/85d8da5c9a45e072301beb37ad7f833cd344e04c817d97e0cc75681d248f/munch-2.5.0-py2.py3-none-any.whl\n",
            "Requirement already satisfied: certifi in /usr/local/lib/python3.7/dist-packages (from fiona>=1.8->geopandas==0.9.0+14.g294ba75) (2020.12.5)\n",
            "Collecting cligj>=0.5\n",
            "  Downloading https://files.pythonhosted.org/packages/42/1e/947eadf10d6804bf276eb8a038bd5307996dceaaa41cfd21b7a15ec62f5d/cligj-0.7.1-py3-none-any.whl\n",
            "Collecting click-plugins>=1.0\n",
            "  Downloading https://files.pythonhosted.org/packages/e9/da/824b92d9942f4e472702488857914bdd50f73021efea15b4cad9aca8ecef/click_plugins-1.1.1-py2.py3-none-any.whl\n",
            "Requirement already satisfied: click<8,>=4.0 in /usr/local/lib/python3.7/dist-packages (from fiona>=1.8->geopandas==0.9.0+14.g294ba75) (7.1.2)\n",
            "Building wheels for collected packages: geopandas\n",
            "  Building wheel for geopandas (setup.py) ... \u001b[?25l\u001b[?25hdone\n",
            "  Created wheel for geopandas: filename=geopandas-0.9.0+14.g294ba75-py2.py3-none-any.whl size=995262 sha256=fc6a6e8e2706b4439e5d0a50d0c1dde3b4a8c85396e243d29613e674dcd56104\n",
            "  Stored in directory: /tmp/pip-ephem-wheel-cache-_h1yp0_7/wheels/91/24/71/376c9c67192694168352afcccc2d264248f7e2cc6192997186\n",
            "Successfully built geopandas\n",
            "Installing collected packages: munch, cligj, click-plugins, fiona, pyproj, geopandas\n",
            "Successfully installed click-plugins-1.1.1 cligj-0.7.1 fiona-1.8.19 geopandas-0.9.0+14.g294ba75 munch-2.5.0 pyproj-3.0.1\n",
            "Requirement already satisfied: descartes in /usr/local/lib/python3.7/dist-packages (1.1.0)\n",
            "Requirement already satisfied: matplotlib in /usr/local/lib/python3.7/dist-packages (from descartes) (3.2.2)\n",
            "Requirement already satisfied: kiwisolver>=1.0.1 in /usr/local/lib/python3.7/dist-packages (from matplotlib->descartes) (1.3.1)\n",
            "Requirement already satisfied: pyparsing!=2.0.4,!=2.1.2,!=2.1.6,>=2.0.1 in /usr/local/lib/python3.7/dist-packages (from matplotlib->descartes) (2.4.7)\n",
            "Requirement already satisfied: python-dateutil>=2.1 in /usr/local/lib/python3.7/dist-packages (from matplotlib->descartes) (2.8.1)\n",
            "Requirement already satisfied: cycler>=0.10 in /usr/local/lib/python3.7/dist-packages (from matplotlib->descartes) (0.10.0)\n",
            "Requirement already satisfied: numpy>=1.11 in /usr/local/lib/python3.7/dist-packages (from matplotlib->descartes) (1.19.5)\n",
            "Requirement already satisfied: six>=1.5 in /usr/local/lib/python3.7/dist-packages (from python-dateutil>=2.1->matplotlib->descartes) (1.15.0)\n",
            "Requirement already satisfied: folium in /usr/local/lib/python3.7/dist-packages (0.8.3)\n",
            "Requirement already satisfied: numpy in /usr/local/lib/python3.7/dist-packages (from folium) (1.19.5)\n",
            "Requirement already satisfied: requests in /usr/local/lib/python3.7/dist-packages (from folium) (2.23.0)\n",
            "Requirement already satisfied: jinja2 in /usr/local/lib/python3.7/dist-packages (from folium) (2.11.3)\n",
            "Requirement already satisfied: six in /usr/local/lib/python3.7/dist-packages (from folium) (1.15.0)\n",
            "Requirement already satisfied: branca>=0.3.0 in /usr/local/lib/python3.7/dist-packages (from folium) (0.4.2)\n",
            "Requirement already satisfied: certifi>=2017.4.17 in /usr/local/lib/python3.7/dist-packages (from requests->folium) (2020.12.5)\n",
            "Requirement already satisfied: idna<3,>=2.5 in /usr/local/lib/python3.7/dist-packages (from requests->folium) (2.10)\n",
            "Requirement already satisfied: chardet<4,>=3.0.2 in /usr/local/lib/python3.7/dist-packages (from requests->folium) (3.0.4)\n",
            "Requirement already satisfied: urllib3!=1.25.0,!=1.25.1,<1.26,>=1.21.1 in /usr/local/lib/python3.7/dist-packages (from requests->folium) (1.24.3)\n",
            "Requirement already satisfied: MarkupSafe>=0.23 in /usr/local/lib/python3.7/dist-packages (from jinja2->folium) (1.1.1)\n",
            "Collecting plotly_express\n",
            "  Downloading https://files.pythonhosted.org/packages/d4/d6/8a2906f51e073a4be80cab35cfa10e7a34853e60f3ed5304ac470852a08d/plotly_express-0.4.1-py2.py3-none-any.whl\n",
            "Requirement already satisfied: patsy>=0.5 in /usr/local/lib/python3.7/dist-packages (from plotly_express) (0.5.1)\n",
            "Requirement already satisfied: statsmodels>=0.9.0 in /usr/local/lib/python3.7/dist-packages (from plotly_express) (0.10.2)\n",
            "Requirement already satisfied: numpy>=1.11 in /usr/local/lib/python3.7/dist-packages (from plotly_express) (1.19.5)\n",
            "Requirement already satisfied: scipy>=0.18 in /usr/local/lib/python3.7/dist-packages (from plotly_express) (1.4.1)\n",
            "Requirement already satisfied: pandas>=0.20.0 in /usr/local/lib/python3.7/dist-packages (from plotly_express) (1.1.5)\n",
            "Requirement already satisfied: plotly>=4.1.0 in /usr/local/lib/python3.7/dist-packages (from plotly_express) (4.4.1)\n",
            "Requirement already satisfied: six in /usr/local/lib/python3.7/dist-packages (from patsy>=0.5->plotly_express) (1.15.0)\n",
            "Requirement already satisfied: pytz>=2017.2 in /usr/local/lib/python3.7/dist-packages (from pandas>=0.20.0->plotly_express) (2018.9)\n",
            "Requirement already satisfied: python-dateutil>=2.7.3 in /usr/local/lib/python3.7/dist-packages (from pandas>=0.20.0->plotly_express) (2.8.1)\n",
            "Requirement already satisfied: retrying>=1.3.3 in /usr/local/lib/python3.7/dist-packages (from plotly>=4.1.0->plotly_express) (1.3.3)\n",
            "Installing collected packages: plotly-express\n",
            "Successfully installed plotly-express-0.4.1\n",
            "CPU times: user 458 ms, sys: 103 ms, total: 561 ms\n",
            "Wall time: 45.9 s\n"
          ],
          "name": "stdout"
        }
      ]
    },
    {
      "cell_type": "code",
      "metadata": {
        "id": "afB4W0KnutpV"
      },
      "source": [
        "import pandas as pd\n",
        "import numpy as np\n",
        "import geopandas as gpd\n",
        "from shapely.geometry import Point\n",
        "import matplotlib\n",
        "import matplotlib.pyplot as plt \n",
        "import folium\n",
        "import plotly_express as px"
      ],
      "execution_count": null,
      "outputs": []
    },
    {
      "cell_type": "code",
      "metadata": {
        "colab": {
          "base_uri": "https://localhost:8080/"
        },
        "id": "Z65ru55Mzr4Z",
        "outputId": "9651d6ac-ad4d-4eef-de11-1fd09262fd34"
      },
      "source": [
        "!git clone --recursive https://github.com/Pravallika-Myneni/WDL-stage-2.git"
      ],
      "execution_count": null,
      "outputs": [
        {
          "output_type": "stream",
          "text": [
            "Cloning into 'WDL-stage-2'...\n",
            "remote: Enumerating objects: 43, done.\u001b[K\n",
            "remote: Counting objects: 100% (43/43), done.\u001b[K\n",
            "remote: Compressing objects: 100% (38/38), done.\u001b[K\n",
            "remote: Total 43 (delta 7), reused 0 (delta 0), pack-reused 0\u001b[K\n",
            "Unpacking objects: 100% (43/43), done.\n"
          ],
          "name": "stdout"
        }
      ]
    },
    {
      "cell_type": "code",
      "metadata": {
        "colab": {
          "base_uri": "https://localhost:8080/"
        },
        "id": "vUo6U70o0bbK",
        "outputId": "49c1db28-c60d-4103-efaf-5ccfa1afeb38"
      },
      "source": [
        "!ls WDL-stage-2/datasets/"
      ],
      "execution_count": null,
      "outputs": [
        {
          "output_type": "stream",
          "text": [
            "data.md  Lisbon.geojson  m_risk_prfile.zip  porto.geojson\n"
          ],
          "name": "stdout"
        }
      ]
    },
    {
      "cell_type": "code",
      "metadata": {
        "colab": {
          "base_uri": "https://localhost:8080/"
        },
        "id": "VWGVXJJV0iet",
        "outputId": "48abb37c-4106-4290-ce99-2abcb4a5cf10"
      },
      "source": [
        "!unzip WDL-stage-2/datasets/m_risk_prfile.zip"
      ],
      "execution_count": null,
      "outputs": [
        {
          "output_type": "stream",
          "text": [
            "Archive:  WDL-stage-2/datasets/m_risk_prfile.zip\n",
            " extracting: m_risk_prfile.cpg       \n",
            "  inflating: m_risk_prfile.dbf       \n",
            "  inflating: m_risk_prfile.geojson   \n",
            "  inflating: m_risk_prfile.prj       \n",
            "  inflating: m_risk_prfile.shp       \n",
            "  inflating: m_risk_prfile.shx       \n"
          ],
          "name": "stdout"
        }
      ]
    },
    {
      "cell_type": "code",
      "metadata": {
        "colab": {
          "base_uri": "https://localhost:8080/"
        },
        "id": "HMf_eM0f0q3Z",
        "outputId": "3e69672c-873f-4ae9-8ceb-42931619311d"
      },
      "source": [
        "geo_json_data = gpd.read_file('m_risk_prfile.geojson')\n",
        "geo_json_data.columns"
      ],
      "execution_count": null,
      "outputs": [
        {
          "output_type": "execute_result",
          "data": {
            "text/plain": [
              "Index(['Link_ID', 'linkid', 'Daily_Aver', 'Average_Ve', 'Median_of_',\n",
              "       'First_Quar', 'Third_Quar', 'Func_Class', 'Speed_Cat', 'geometry'],\n",
              "      dtype='object')"
            ]
          },
          "metadata": {
            "tags": []
          },
          "execution_count": 40
        }
      ]
    },
    {
      "cell_type": "code",
      "metadata": {
        "colab": {
          "base_uri": "https://localhost:8080/"
        },
        "id": "hSDg6hFx1z3x",
        "outputId": "b1fb862e-660c-43de-87e9-ef90425d9187"
      },
      "source": [
        "dbf_data = gpd.read_file('m_risk_prfile.dbf')\n",
        "dbf_data.columns"
      ],
      "execution_count": null,
      "outputs": [
        {
          "output_type": "execute_result",
          "data": {
            "text/plain": [
              "Index(['Link_ID', 'linkid', 'Daily_Aver', 'Average_Ve', 'Median_of_',\n",
              "       'First_Quar', 'Third_Quar', 'Func_Class', 'Speed_Cat', 'geometry'],\n",
              "      dtype='object')"
            ]
          },
          "metadata": {
            "tags": []
          },
          "execution_count": 7
        }
      ]
    },
    {
      "cell_type": "code",
      "metadata": {
        "colab": {
          "base_uri": "https://localhost:8080/"
        },
        "id": "uLCpv0uo2EaJ",
        "outputId": "9d13f6f0-c545-4d7e-8c3c-01b55e3d6bdd"
      },
      "source": [
        "shp_data = gpd.read_file('m_risk_prfile.shp')\n",
        "shp_data.columns"
      ],
      "execution_count": null,
      "outputs": [
        {
          "output_type": "execute_result",
          "data": {
            "text/plain": [
              "Index(['Link_ID', 'linkid', 'Daily_Aver', 'Average_Ve', 'Median_of_',\n",
              "       'First_Quar', 'Third_Quar', 'Func_Class', 'Speed_Cat', 'geometry'],\n",
              "      dtype='object')"
            ]
          },
          "metadata": {
            "tags": []
          },
          "execution_count": 8
        }
      ]
    },
    {
      "cell_type": "code",
      "metadata": {
        "colab": {
          "base_uri": "https://localhost:8080/"
        },
        "id": "tfD4OFIi2K2Y",
        "outputId": "c1850a35-01a6-41dc-dd0e-abeb285a0bbd"
      },
      "source": [
        "shx_data = gpd.read_file('m_risk_prfile.shx')\n",
        "shx_data.columns"
      ],
      "execution_count": null,
      "outputs": [
        {
          "output_type": "execute_result",
          "data": {
            "text/plain": [
              "Index(['Link_ID', 'linkid', 'Daily_Aver', 'Average_Ve', 'Median_of_',\n",
              "       'First_Quar', 'Third_Quar', 'Func_Class', 'Speed_Cat', 'geometry'],\n",
              "      dtype='object')"
            ]
          },
          "metadata": {
            "tags": []
          },
          "execution_count": 9
        }
      ]
    },
    {
      "cell_type": "code",
      "metadata": {
        "id": "oB8Co7xi18zL"
      },
      "source": [
        "#prj_data = gpd.read_file('m_risk_prfile.prj')\n",
        "#prj_data.columns\n",
        "#for containing information related to a coordinate system."
      ],
      "execution_count": null,
      "outputs": []
    },
    {
      "cell_type": "code",
      "metadata": {
        "id": "hXLrOvne1b51"
      },
      "source": [
        "#cpg_data = gpd.read_file('m_risk_prfile.cpg')\n",
        "#cpg_json_data.columns\n",
        "#describes a set of characters for displaying text in shapefiles; helps localize maps for specific languages."
      ],
      "execution_count": null,
      "outputs": []
    },
    {
      "cell_type": "markdown",
      "metadata": {
        "id": "Z85zLcuXTwmb"
      },
      "source": [
        ""
      ]
    },
    {
      "cell_type": "code",
      "metadata": {
        "colab": {
          "base_uri": "https://localhost:8080/"
        },
        "id": "hcMtwSm_1CNz",
        "outputId": "29fac533-f874-49fc-ae54-06601f942d8a"
      },
      "source": [
        "geo_json_data.shape"
      ],
      "execution_count": null,
      "outputs": [
        {
          "output_type": "execute_result",
          "data": {
            "text/plain": [
              "(34678, 10)"
            ]
          },
          "metadata": {
            "tags": []
          },
          "execution_count": 12
        }
      ]
    },
    {
      "cell_type": "code",
      "metadata": {
        "colab": {
          "base_uri": "https://localhost:8080/"
        },
        "id": "_I4m0Tie2l1K",
        "outputId": "e044ee3d-9869-4f8b-da70-ddde154b7eea"
      },
      "source": [
        "type(geo_json_data)"
      ],
      "execution_count": null,
      "outputs": [
        {
          "output_type": "execute_result",
          "data": {
            "text/plain": [
              "geopandas.geodataframe.GeoDataFrame"
            ]
          },
          "metadata": {
            "tags": []
          },
          "execution_count": 13
        }
      ]
    },
    {
      "cell_type": "code",
      "metadata": {
        "colab": {
          "base_uri": "https://localhost:8080/"
        },
        "id": "pbAiddnM2iJL",
        "outputId": "119588db-ff6f-49f0-e447-9717e20f3f37"
      },
      "source": [
        "geo_json_data.info()"
      ],
      "execution_count": null,
      "outputs": [
        {
          "output_type": "stream",
          "text": [
            "<class 'geopandas.geodataframe.GeoDataFrame'>\n",
            "RangeIndex: 34678 entries, 0 to 34677\n",
            "Data columns (total 10 columns):\n",
            " #   Column      Non-Null Count  Dtype   \n",
            "---  ------      --------------  -----   \n",
            " 0   Link_ID     34678 non-null  int64   \n",
            " 1   linkid      34678 non-null  int64   \n",
            " 2   Daily_Aver  34678 non-null  float64 \n",
            " 3   Average_Ve  34678 non-null  float64 \n",
            " 4   Median_of_  34678 non-null  float64 \n",
            " 5   First_Quar  34678 non-null  float64 \n",
            " 6   Third_Quar  34678 non-null  float64 \n",
            " 7   Func_Class  34678 non-null  int64   \n",
            " 8   Speed_Cat   34678 non-null  int64   \n",
            " 9   geometry    34678 non-null  geometry\n",
            "dtypes: float64(5), geometry(1), int64(4)\n",
            "memory usage: 2.6 MB\n"
          ],
          "name": "stdout"
        }
      ]
    },
    {
      "cell_type": "code",
      "metadata": {
        "colab": {
          "base_uri": "https://localhost:8080/",
          "height": 286
        },
        "id": "EQGwANzz1HGu",
        "outputId": "71460520-fd52-40d5-9196-13037d1a391e"
      },
      "source": [
        "geo_json_data.describe()"
      ],
      "execution_count": null,
      "outputs": [
        {
          "output_type": "execute_result",
          "data": {
            "text/html": [
              "<div>\n",
              "<style scoped>\n",
              "    .dataframe tbody tr th:only-of-type {\n",
              "        vertical-align: middle;\n",
              "    }\n",
              "\n",
              "    .dataframe tbody tr th {\n",
              "        vertical-align: top;\n",
              "    }\n",
              "\n",
              "    .dataframe thead th {\n",
              "        text-align: right;\n",
              "    }\n",
              "</style>\n",
              "<table border=\"1\" class=\"dataframe\">\n",
              "  <thead>\n",
              "    <tr style=\"text-align: right;\">\n",
              "      <th></th>\n",
              "      <th>Link_ID</th>\n",
              "      <th>linkid</th>\n",
              "      <th>Daily_Aver</th>\n",
              "      <th>Average_Ve</th>\n",
              "      <th>Median_of_</th>\n",
              "      <th>First_Quar</th>\n",
              "      <th>Third_Quar</th>\n",
              "      <th>Func_Class</th>\n",
              "      <th>Speed_Cat</th>\n",
              "    </tr>\n",
              "  </thead>\n",
              "  <tbody>\n",
              "    <tr>\n",
              "      <th>count</th>\n",
              "      <td>3.467800e+04</td>\n",
              "      <td>3.467800e+04</td>\n",
              "      <td>34678.000000</td>\n",
              "      <td>34678.000000</td>\n",
              "      <td>34678.000000</td>\n",
              "      <td>34678.000000</td>\n",
              "      <td>34678.000000</td>\n",
              "      <td>34678.000000</td>\n",
              "      <td>34678.000000</td>\n",
              "    </tr>\n",
              "    <tr>\n",
              "      <th>mean</th>\n",
              "      <td>8.958206e+08</td>\n",
              "      <td>8.958206e+08</td>\n",
              "      <td>3340.417942</td>\n",
              "      <td>56.816834</td>\n",
              "      <td>56.463409</td>\n",
              "      <td>43.822041</td>\n",
              "      <td>68.091844</td>\n",
              "      <td>2.684613</td>\n",
              "      <td>4.904781</td>\n",
              "    </tr>\n",
              "    <tr>\n",
              "      <th>std</th>\n",
              "      <td>2.355910e+08</td>\n",
              "      <td>2.355910e+08</td>\n",
              "      <td>2725.873982</td>\n",
              "      <td>51.983670</td>\n",
              "      <td>26.240876</td>\n",
              "      <td>24.442204</td>\n",
              "      <td>30.985191</td>\n",
              "      <td>0.538658</td>\n",
              "      <td>1.520568</td>\n",
              "    </tr>\n",
              "    <tr>\n",
              "      <th>min</th>\n",
              "      <td>8.021682e+07</td>\n",
              "      <td>8.021682e+07</td>\n",
              "      <td>14.435864</td>\n",
              "      <td>-401.703724</td>\n",
              "      <td>1.000000</td>\n",
              "      <td>-392.500000</td>\n",
              "      <td>1.000000</td>\n",
              "      <td>1.000000</td>\n",
              "      <td>2.000000</td>\n",
              "    </tr>\n",
              "    <tr>\n",
              "      <th>25%</th>\n",
              "      <td>7.364832e+08</td>\n",
              "      <td>7.364832e+08</td>\n",
              "      <td>1903.398108</td>\n",
              "      <td>38.315321</td>\n",
              "      <td>38.250000</td>\n",
              "      <td>26.000000</td>\n",
              "      <td>48.000000</td>\n",
              "      <td>2.000000</td>\n",
              "      <td>4.000000</td>\n",
              "    </tr>\n",
              "    <tr>\n",
              "      <th>50%</th>\n",
              "      <td>9.067377e+08</td>\n",
              "      <td>9.067377e+08</td>\n",
              "      <td>2644.529317</td>\n",
              "      <td>49.966126</td>\n",
              "      <td>50.000000</td>\n",
              "      <td>38.875000</td>\n",
              "      <td>60.333333</td>\n",
              "      <td>3.000000</td>\n",
              "      <td>6.000000</td>\n",
              "    </tr>\n",
              "    <tr>\n",
              "      <th>75%</th>\n",
              "      <td>1.154997e+09</td>\n",
              "      <td>1.154997e+09</td>\n",
              "      <td>3897.886608</td>\n",
              "      <td>69.511585</td>\n",
              "      <td>71.000000</td>\n",
              "      <td>56.000000</td>\n",
              "      <td>85.000000</td>\n",
              "      <td>3.000000</td>\n",
              "      <td>6.000000</td>\n",
              "    </tr>\n",
              "    <tr>\n",
              "      <th>max</th>\n",
              "      <td>1.223731e+09</td>\n",
              "      <td>1.223731e+09</td>\n",
              "      <td>49309.806935</td>\n",
              "      <td>6357.022296</td>\n",
              "      <td>1326.250000</td>\n",
              "      <td>143.000000</td>\n",
              "      <td>2605.000000</td>\n",
              "      <td>3.000000</td>\n",
              "      <td>7.000000</td>\n",
              "    </tr>\n",
              "  </tbody>\n",
              "</table>\n",
              "</div>"
            ],
            "text/plain": [
              "            Link_ID        linkid  ...    Func_Class     Speed_Cat\n",
              "count  3.467800e+04  3.467800e+04  ...  34678.000000  34678.000000\n",
              "mean   8.958206e+08  8.958206e+08  ...      2.684613      4.904781\n",
              "std    2.355910e+08  2.355910e+08  ...      0.538658      1.520568\n",
              "min    8.021682e+07  8.021682e+07  ...      1.000000      2.000000\n",
              "25%    7.364832e+08  7.364832e+08  ...      2.000000      4.000000\n",
              "50%    9.067377e+08  9.067377e+08  ...      3.000000      6.000000\n",
              "75%    1.154997e+09  1.154997e+09  ...      3.000000      6.000000\n",
              "max    1.223731e+09  1.223731e+09  ...      3.000000      7.000000\n",
              "\n",
              "[8 rows x 9 columns]"
            ]
          },
          "metadata": {
            "tags": []
          },
          "execution_count": 15
        }
      ]
    },
    {
      "cell_type": "code",
      "metadata": {
        "colab": {
          "base_uri": "https://localhost:8080/",
          "height": 167
        },
        "id": "Om1Z3fvL1LDa",
        "outputId": "13e8f9d8-ec14-43e7-d0c5-d06c8bb3a99c"
      },
      "source": [
        "geo_json_data.sample(4)"
      ],
      "execution_count": null,
      "outputs": [
        {
          "output_type": "execute_result",
          "data": {
            "text/html": [
              "<div>\n",
              "<style scoped>\n",
              "    .dataframe tbody tr th:only-of-type {\n",
              "        vertical-align: middle;\n",
              "    }\n",
              "\n",
              "    .dataframe tbody tr th {\n",
              "        vertical-align: top;\n",
              "    }\n",
              "\n",
              "    .dataframe thead th {\n",
              "        text-align: right;\n",
              "    }\n",
              "</style>\n",
              "<table border=\"1\" class=\"dataframe\">\n",
              "  <thead>\n",
              "    <tr style=\"text-align: right;\">\n",
              "      <th></th>\n",
              "      <th>Link_ID</th>\n",
              "      <th>linkid</th>\n",
              "      <th>Daily_Aver</th>\n",
              "      <th>Average_Ve</th>\n",
              "      <th>Median_of_</th>\n",
              "      <th>First_Quar</th>\n",
              "      <th>Third_Quar</th>\n",
              "      <th>Func_Class</th>\n",
              "      <th>Speed_Cat</th>\n",
              "      <th>geometry</th>\n",
              "    </tr>\n",
              "  </thead>\n",
              "  <tbody>\n",
              "    <tr>\n",
              "      <th>30558</th>\n",
              "      <td>1168218966</td>\n",
              "      <td>1168218966</td>\n",
              "      <td>1749.133695</td>\n",
              "      <td>57.177273</td>\n",
              "      <td>63.666667</td>\n",
              "      <td>41.0</td>\n",
              "      <td>70.500000</td>\n",
              "      <td>3</td>\n",
              "      <td>6</td>\n",
              "      <td>MULTILINESTRING ((-8.62430 41.24151, -8.62471 ...</td>\n",
              "    </tr>\n",
              "    <tr>\n",
              "      <th>1108</th>\n",
              "      <td>537295339</td>\n",
              "      <td>537295339</td>\n",
              "      <td>2100.603447</td>\n",
              "      <td>29.759065</td>\n",
              "      <td>30.000000</td>\n",
              "      <td>19.0</td>\n",
              "      <td>39.000000</td>\n",
              "      <td>3</td>\n",
              "      <td>6</td>\n",
              "      <td>MULTILINESTRING ((-9.23064 38.76721, -9.23058 ...</td>\n",
              "    </tr>\n",
              "    <tr>\n",
              "      <th>8102</th>\n",
              "      <td>875129688</td>\n",
              "      <td>875129688</td>\n",
              "      <td>1194.116361</td>\n",
              "      <td>74.625000</td>\n",
              "      <td>69.500000</td>\n",
              "      <td>64.5</td>\n",
              "      <td>88.000000</td>\n",
              "      <td>2</td>\n",
              "      <td>4</td>\n",
              "      <td>MULTILINESTRING ((-8.65380 38.73653, -8.65392 ...</td>\n",
              "    </tr>\n",
              "    <tr>\n",
              "      <th>20811</th>\n",
              "      <td>591375793</td>\n",
              "      <td>591375793</td>\n",
              "      <td>4341.528552</td>\n",
              "      <td>61.873533</td>\n",
              "      <td>57.714286</td>\n",
              "      <td>54.0</td>\n",
              "      <td>57.714286</td>\n",
              "      <td>3</td>\n",
              "      <td>6</td>\n",
              "      <td>MULTILINESTRING ((-8.53483 40.95759, -8.53510 ...</td>\n",
              "    </tr>\n",
              "  </tbody>\n",
              "</table>\n",
              "</div>"
            ],
            "text/plain": [
              "          Link_ID  ...                                           geometry\n",
              "30558  1168218966  ...  MULTILINESTRING ((-8.62430 41.24151, -8.62471 ...\n",
              "1108    537295339  ...  MULTILINESTRING ((-9.23064 38.76721, -9.23058 ...\n",
              "8102    875129688  ...  MULTILINESTRING ((-8.65380 38.73653, -8.65392 ...\n",
              "20811   591375793  ...  MULTILINESTRING ((-8.53483 40.95759, -8.53510 ...\n",
              "\n",
              "[4 rows x 10 columns]"
            ]
          },
          "metadata": {
            "tags": []
          },
          "execution_count": 16
        }
      ]
    },
    {
      "cell_type": "code",
      "metadata": {
        "colab": {
          "base_uri": "https://localhost:8080/"
        },
        "id": "XYtJh_ioUyKL",
        "outputId": "0b981bc9-e2f0-48a8-d1da-645d298ed9c5"
      },
      "source": [
        "len(set(geo_json_data['linkid']))"
      ],
      "execution_count": null,
      "outputs": [
        {
          "output_type": "execute_result",
          "data": {
            "text/plain": [
              "34678"
            ]
          },
          "metadata": {
            "tags": []
          },
          "execution_count": 17
        }
      ]
    },
    {
      "cell_type": "code",
      "metadata": {
        "colab": {
          "base_uri": "https://localhost:8080/",
          "height": 313
        },
        "id": "lSiuPkV45wLY",
        "outputId": "2f426571-ae15-4347-d1ab-a877f1a5845b"
      },
      "source": [
        "# Plot overlayed maps\n",
        "plt.figure(figsize= (15,15))\n",
        "geo_json_data.plot(markersize=0.5)\n",
        "plt.tight_layout()\n",
        "#plt.savefig('overlay_map.png')\n",
        "plt.show()"
      ],
      "execution_count": null,
      "outputs": [
        {
          "output_type": "display_data",
          "data": {
            "text/plain": [
              "<Figure size 1080x1080 with 0 Axes>"
            ]
          },
          "metadata": {
            "tags": []
          }
        },
        {
          "output_type": "display_data",
          "data": {
            "image/png": "[encoded data removed]",
            "text/plain": [
              "<Figure size 432x288 with 1 Axes>"
            ]
          },
          "metadata": {
            "tags": [],
            "needs_background": "light"
          }
        }
      ]
    },
    {
      "cell_type": "code",
      "metadata": {
        "colab": {
          "base_uri": "https://localhost:8080/",
          "height": 306
        },
        "id": "KrJN5vFIT7xG",
        "outputId": "6fa9ffc4-94e9-4afb-8c6f-3849e4e00a5a"
      },
      "source": [
        "geo_json_data.sample(1).plot(markersize=0.5)"
      ],
      "execution_count": null,
      "outputs": [
        {
          "output_type": "execute_result",
          "data": {
            "text/plain": [
              "<matplotlib.axes._subplots.AxesSubplot at 0x7f3163d90390>"
            ]
          },
          "metadata": {
            "tags": []
          },
          "execution_count": 19
        },
        {
          "output_type": "display_data",
          "data": {
            "image/png": "[encoded data removed]",
            "text/plain": [
              "<Figure size 432x288 with 1 Axes>"
            ]
          },
          "metadata": {
            "tags": [],
            "needs_background": "light"
          }
        }
      ]
    },
    {
      "cell_type": "code",
      "metadata": {
        "id": "pa2QaodT5vaM"
      },
      "source": [
        "porto_boundaries = gpd.read_file('https://raw.githubusercontent.com/Pravallika-Myneni/WDL-stage-2/main/datasets/porto.geojson')\n",
        "lisbon_boundaries = gpd.read_file('https://raw.githubusercontent.com/Pravallika-Myneni/WDL-stage-2/main/datasets/Lisbon.geojson')"
      ],
      "execution_count": null,
      "outputs": []
    },
    {
      "cell_type": "code",
      "metadata": {
        "colab": {
          "base_uri": "https://localhost:8080/",
          "height": 1000
        },
        "id": "qELcOx2V55xi",
        "outputId": "a68f93e2-5185-4b8f-c858-e2df287e7a17"
      },
      "source": [
        "ax = porto_boundaries.plot(figsize=(20,20), color='none', edgecolor='gainsboro', zorder=3)\n",
        "lisbon_boundaries.plot(figsize=(20,20), color='none', edgecolor='gainsboro', zorder=3,ax=ax)\n",
        "geo_json_data.plot(color = 'green', ax = ax)"
      ],
      "execution_count": null,
      "outputs": [
        {
          "output_type": "execute_result",
          "data": {
            "text/plain": [
              "<matplotlib.axes._subplots.AxesSubplot at 0x7fe12f2a7250>"
            ]
          },
          "metadata": {
            "tags": []
          },
          "execution_count": 23
        },
        {
          "output_type": "display_data",
          "data": {
            "image/png": "[encoded data removed]",
            "text/plain": [
              "<Figure size 1440x1440 with 1 Axes>"
            ]
          },
          "metadata": {
            "tags": [],
            "needs_background": "light"
          }
        }
      ]
    },
    {
      "cell_type": "code",
      "metadata": {
        "id": "4D-TQV1eF3w9"
      },
      "source": [
        "from sklearn.cluster import KMeans\n",
        "import numpy as np\n",
        "import matplotlib.pyplot as plt\n",
        "from matplotlib.pyplot import figure"
      ],
      "execution_count": null,
      "outputs": []
    },
    {
      "cell_type": "markdown",
      "metadata": {
        "id": "94UCI9-GskxW"
      },
      "source": [
        "Coordinate systems and Projections\n",
        "Coordinate reference systems represent how our data as two dimensional (planar) relates to actual places on earth. It is the glue that holds the attributes to their respective locations. Geodataframes has .crs attribute that can give you the original CRS used in the data. It is easy to transform and project these coordinates. However, to perform projections, it is necessary to have the same CRS in order to carry out geographic analysis and get the right values out the analysis. The countries, cities and rivers have the same CRS. Let us check them."
      ]
    },
    {
      "cell_type": "code",
      "metadata": {
        "id": "RWn-Ij9mqodU",
        "colab": {
          "base_uri": "https://localhost:8080/"
        },
        "outputId": "81d1bb3a-4f0c-4805-fdc6-0a31dee11b36"
      },
      "source": [
        "geo_json_data.crs"
      ],
      "execution_count": null,
      "outputs": [
        {
          "output_type": "execute_result",
          "data": {
            "text/plain": [
              "<Geographic 2D CRS: EPSG:4326>\n",
              "Name: WGS 84\n",
              "Axis Info [ellipsoidal]:\n",
              "- Lat[north]: Geodetic latitude (degree)\n",
              "- Lon[east]: Geodetic longitude (degree)\n",
              "Area of Use:\n",
              "- name: World.\n",
              "- bounds: (-180.0, -90.0, 180.0, 90.0)\n",
              "Datum: World Geodetic System 1984\n",
              "- Ellipsoid: WGS 84\n",
              "- Prime Meridian: Greenwich"
            ]
          },
          "metadata": {
            "tags": []
          },
          "execution_count": 41
        }
      ]
    },
    {
      "cell_type": "markdown",
      "metadata": {
        "id": "nwDzJcB9s1Kp"
      },
      "source": [
        "Different CRS have different measurements. For some, the coordinates are defined in decimal degrees while others are defined in meters. It is common process to reproject data from one format to another in Geographic data processing. This source is very useful in visualizing and comparing different Projections: https://map-projections.net/compare.php?p1=mercator-84&p2=robinson&sps=1\n",
        "\n",
        "We will project our data into mercator. The Mercator projection, latitude-longitude quadrangles are stretched along the x-axis and y-axis as you move away from the equator."
      ]
    },
    {
      "cell_type": "code",
      "metadata": {
        "id": "kMTrku-Pstuc"
      },
      "source": [
        "# Look at the geometry column: decimal degrees\n",
        "geo_json_data.geometry[:5]"
      ],
      "execution_count": null,
      "outputs": []
    },
    {
      "cell_type": "code",
      "metadata": {
        "id": "7bMBTmH5tEuC"
      },
      "source": [
        "# Project the data into Mercator Projection epsg=3395\n",
        "data_projected = geo_json_data.to_crs({'init' : 'espg:3395'})\n",
        "\n",
        "#See the geometry column of the projected data\n",
        "data_projected.geometry[:5]"
      ],
      "execution_count": null,
      "outputs": []
    },
    {
      "cell_type": "code",
      "metadata": {
        "id": "MlarROOOty1I"
      },
      "source": [
        "plot both"
      ],
      "execution_count": null,
      "outputs": []
    },
    {
      "cell_type": "code",
      "metadata": {
        "id": "POvWCw0ft4IN"
      },
      "source": [
        ""
      ],
      "execution_count": null,
      "outputs": []
    },
    {
      "cell_type": "markdown",
      "metadata": {
        "id": "xrxwbpGFG27A"
      },
      "source": [
        "#From Start"
      ]
    },
    {
      "cell_type": "markdown",
      "metadata": {
        "id": "PYMSh6OLHA6W"
      },
      "source": [
        "##Preprocessing datasets"
      ]
    },
    {
      "cell_type": "code",
      "metadata": {
        "colab": {
          "base_uri": "https://localhost:8080/"
        },
        "id": "-83_upffG2lR",
        "outputId": "9cae8d91-ed54-4ea5-aa88-b55918c383e1"
      },
      "source": [
        "geo_json_data.isnull().sum()"
      ],
      "execution_count": null,
      "outputs": [
        {
          "output_type": "execute_result",
          "data": {
            "text/plain": [
              "Link_ID       0\n",
              "linkid        0\n",
              "Daily_Aver    0\n",
              "Average_Ve    0\n",
              "Median_of_    0\n",
              "First_Quar    0\n",
              "Third_Quar    0\n",
              "Func_Class    0\n",
              "Speed_Cat     0\n",
              "geometry      0\n",
              "dtype: int64"
            ]
          },
          "metadata": {
            "tags": []
          },
          "execution_count": 42
        }
      ]
    },
    {
      "cell_type": "code",
      "metadata": {
        "colab": {
          "base_uri": "https://localhost:8080/"
        },
        "id": "bGlXZ-bPHKA3",
        "outputId": "2f42f481-cf5e-49a9-efcd-dadcf469f236"
      },
      "source": [
        "geo_json_data.dtypes"
      ],
      "execution_count": null,
      "outputs": [
        {
          "output_type": "execute_result",
          "data": {
            "text/plain": [
              "Link_ID          int64\n",
              "linkid           int64\n",
              "Daily_Aver     float64\n",
              "Average_Ve     float64\n",
              "Median_of_     float64\n",
              "First_Quar     float64\n",
              "Third_Quar     float64\n",
              "Func_Class       int64\n",
              "Speed_Cat        int64\n",
              "geometry      geometry\n",
              "dtype: object"
            ]
          },
          "metadata": {
            "tags": []
          },
          "execution_count": 43
        }
      ]
    },
    {
      "cell_type": "code",
      "metadata": {
        "colab": {
          "base_uri": "https://localhost:8080/"
        },
        "id": "ZDvd1TQBHYoV",
        "outputId": "7685091d-f938-42dc-c8b2-0aadeced7484"
      },
      "source": [
        "geo_json_data.shape"
      ],
      "execution_count": null,
      "outputs": [
        {
          "output_type": "execute_result",
          "data": {
            "text/plain": [
              "(34678, 10)"
            ]
          },
          "metadata": {
            "tags": []
          },
          "execution_count": 26
        }
      ]
    },
    {
      "cell_type": "code",
      "metadata": {
        "colab": {
          "base_uri": "https://localhost:8080/"
        },
        "id": "iMr_EAXrHQp1",
        "outputId": "a8d102ca-55b6-48fa-a499-3b0e6dced481"
      },
      "source": [
        "len(geo_json_data['geometry'].unique())"
      ],
      "execution_count": null,
      "outputs": [
        {
          "output_type": "execute_result",
          "data": {
            "text/plain": [
              "34673"
            ]
          },
          "metadata": {
            "tags": []
          },
          "execution_count": 44
        }
      ]
    },
    {
      "cell_type": "code",
      "metadata": {
        "colab": {
          "base_uri": "https://localhost:8080/"
        },
        "id": "DACKBfBCHvLi",
        "outputId": "aad2cd40-f436-495d-e4d4-3a69efce4c12"
      },
      "source": [
        "len(geo_json_data['linkid'].unique())"
      ],
      "execution_count": null,
      "outputs": [
        {
          "output_type": "execute_result",
          "data": {
            "text/plain": [
              "34678"
            ]
          },
          "metadata": {
            "tags": []
          },
          "execution_count": 45
        }
      ]
    },
    {
      "cell_type": "code",
      "metadata": {
        "colab": {
          "base_uri": "https://localhost:8080/"
        },
        "id": "kBg0HXRDH5Im",
        "outputId": "8d7a5850-5a49-40b0-ffad-4d743c99d29a"
      },
      "source": [
        "len(geo_json_data['linkid'] == geo_json_data['Link_ID'])"
      ],
      "execution_count": null,
      "outputs": [
        {
          "output_type": "execute_result",
          "data": {
            "text/plain": [
              "34678"
            ]
          },
          "metadata": {
            "tags": []
          },
          "execution_count": 46
        }
      ]
    },
    {
      "cell_type": "code",
      "metadata": {
        "id": "VxwrsQL2JTFd"
      },
      "source": [
        "geo_json_data = geo_json_data.drop(columns= ['Link_ID'])"
      ],
      "execution_count": null,
      "outputs": []
    },
    {
      "cell_type": "code",
      "metadata": {
        "colab": {
          "base_uri": "https://localhost:8080/"
        },
        "id": "IwT4nBuoJydm",
        "outputId": "3a54f066-8efd-46fb-feb6-ac433cdc5726"
      },
      "source": [
        "len(set(geo_json_data['Speed_Cat']))"
      ],
      "execution_count": null,
      "outputs": [
        {
          "output_type": "execute_result",
          "data": {
            "text/plain": [
              "6"
            ]
          },
          "metadata": {
            "tags": []
          },
          "execution_count": 48
        }
      ]
    },
    {
      "cell_type": "markdown",
      "metadata": {
        "id": "Hq3oletoQvRe"
      },
      "source": [
        "![Capture.JPG](data:image/jpeg;base64,/9j/4AAQSkZJRgABAQEAeAB4AAD/4RDsRXhpZgAATU0AKgAAAAgABAE7AAIAAAALAAAISodpAAQAAAABAAAIVpydAAEAAAAWAAAQzuocAAcAAAgMAAAAPgAAAAAc6gAAAAgAAAAAAAAAAAAAAAAAAAAAAAAAAAAAAAAAAAAAAAAAAAAAAAAAAAAAAAAAAAAAAAAAAAAAAAAAAAAAAAAAAAAAAAAAAAAAAAAAAAAAAAAAAAAAAAAAAAAAAAAAAAAAAAAAAAAAAAAAAAAAAAAAAAAAAAAAAAAAAAAAAAAAAAAAAAAAAAAAAAAAAAAAAAAAAAAAAAAAAAAAAAAAAAAAAAAAAAAAAAAAAAAAAAAAAAAAAAAAAAAAAAAAAAAAAAAAAAAAAAAAAAAAAAAAAAAAAAAAAAAAAAAAAAAAAAAAAAAAAAAAAAAAAAAAAAAAAAAAAAAAAAAAAAAAAAAAAAAAAAAAAAAAAAAAAAAAAAAAAAAAAAAAAAAAAAAAAAAAAAAAAAAAAAAAAAAAAAAAAAAAAAAAAAAAAAAAAAAAAAAAAAAAAAAAAAAAAAAAAAAAAAAAAAAAAAAAAAAAAAAAAAAAAAAAAAAAAAAAAAAAAAAAAAAAAAAAAAAAAAAAAAAAAAAAAAAAAAAAAAAAAAAAAAAAAAAAAAAAAAAAAAAAAAAAAAAAAAAAAAAAAAAAAAAAAAAAAAAAAAAAAAAAAAAAAAAAAAAAAAAAAAAAAAAAAAAAAAAAAAAAAAAAAAAAAAAAAAAAAAAAAAAAAAAAAAAAAAAAAAAAAAAAAAAAAAAAAAAAAAAAAAAAAAAAAAAAAAAAAAAAAAAAAAAAAAAAAAAAAAAAAAAAAAAAAAAAAAAAAAAAAAAAAAAAAAAAAAAAAAAAAAAAAAAAAAAAAAAAAAAAAAAAAAAAAAAAAAAAAAAAAAAAAAAAAAAAAAAAAAAAAAAAAAAAAAAAAAAAAAAAAAAAAAAAAAAAAAAAAAAAAAAAAAAAAAAAAAAAAAAAAAAAAAAAAAAAAAAAAAAAAAAAAAAAAAAAAAAAAAAAAAAAAAAAAAAAAAAAAAAAAAAAAAAAAAAAAAAAAAAAAAAAAAAAAAAAAAAAAAAAAAAAAAAAAAAAAAAAAAAAAAAAAAAAAAAAAAAAAAAAAAAAAAAAAAAAAAAAAAAAAAAAAAAAAAAAAAAAAAAAAAAAAAAAAAAAAAAAAAAAAAAAAAAAAAAAAAAAAAAAAAAAAAAAAAAAAAAAAAAAAAAAAAAAAAAAAAAAAAAAAAAAAAAAAAAAAAAAAAAAAAAAAAAAAAAAAAAAAAAAAAAAAAAAAAAAAAAAAAAAAAAAAAAAAAAAAAAAAAAAAAAAAAAAAAAAAAAAAAAAAAAAAAAAAAAAAAAAAAAAAAAAAAAAAAAAAAAAAAAAAAAAAAAAAAAAAAAAAAAAAAAAAAAAAAAAAAAAAAAAAAAAAAAAAAAAAAAAAAAAAAAAAAAAAAAAAAAAAAAAAAAAAAAAAAAAAAAAAAAAAAAAAAAAAAAAAAAAAAAAAAAAAAAAAAAAAAAAAAAAAAAAAAAAAAAAAAAAAAAAAAAAAAAAAAAAAAAAAAAAAAAAAAAAAAAAAAAAAAAAAAAAAAAAAAAAAAAAAAAAAAAAAAAAAAAAAAAAAAAAAAAAAAAAAAAAAAAAAAAAAAAAAAAAAAAAAAAAAAAAAAAAAAAAAAAAAAAAAAAAAAAAAAAAAAAAAAAAAAAAAAAAAAAAAAAAAAAAAAAAAAAAAAAAAAAAAAAAAAAAAAAAAAAAAAAAAAAAAAAAAAAAAAAAAAAAAAAAAAAAAAAAAAAAAAAAAAAAAAAAAAAAAAAAAAAAAAAAAAAAAAAAAAAAAAAAAAAAAAAAAAAAAAAAAAAAAAAAAAAAAAAAAAAAAAAAAAAAAAAAAAAAAAAAAAAAAAAAAAAAAAAAAAAAAAAAAAAAAAAAAAAAAAAAAAAAAAAAAAAAAAAAAAAAAAAAAAAAAAAAAAAAAAAAAAAAAAAAAAAAAAAAAAAAAAAAAAAAAAAAAAAAAAAAAAAAAAAAAAAAAAAAAAAAAAAAAAAAAAAAAAAAAAAAAAAAAAAAAAAAAAAAAAAAAAAAAAAAAAAAAAAAAAAAAAAAAAAAAAAAAAAAAAAAAAAAAAAAAAAAAAAAAAAAAAAAAAAAAAAAAAAAAAAAAAAAAAAAAAAAAAAAAAAAAAAAAAAAAAAAAAAAAAAAAAAAAAAAAAAAAAAAAAAAAAAAAAAAAAAAAAAAAAAAAAAAAAAAAAAAAAAAAAAAAAAAAAAAAAAAAAAAAAAAAAAAAAAAAAAAAAAAAAAAAAAAAAAAAAAAAAAAAAAAAAAAAAAAAAAAAAAAAAAAAAAAAAAAAAAAAAAAAAAAAAAAAAAAAAAAAAAAAAAAAAAAAAAAAAAAAAAAAAAAAAAAAAAAAAAAAAAAAAAAAAAAAAAAAAAAAAAAAAAAAAAAAAAAAAAAAAAAAAAAAAAAAAAAAAAAAAAAAAAAAAAAAAAAAAAAAAAAAAAAAAAAAAAAAAAAAAAAAAAAAAAAAAAAAAAAAAAAAAAAAAAAAAAAAAAAAAAAAAAAAAAAAAAAAAAAAAAAAAAAAAAAAAAAAAAAAAAAAAAAAAAAAAAAAAAAAAAAAAAAAAAAAAAAAAAAAAAAAAAAAAAAAAAAAAAAAAAAAAAAAAAAAAAAAAAAAAAAAAAAAAAAAAAAAAAAAAAAAAAAAAAAAAAAAAAAAAAAAAAAAAAAAAAAAAAAAAAAAAAAAAAAAAAAAAAAAAAAAAAAAAAAAAAAAAAAAAAAAAAAAAAAAAAAAAAAAAAAAAAAAAAAAAAAAAAAAAAAAAAAAAAAAAAAAAAAAAAAAAAAAAAAAAAAAFByYXZhbGxpa2EAAAAFkAMAAgAAABQAABCkkAQAAgAAABQAABC4kpEAAgAAAAM3NQAAkpIAAgAAAAM3NQAA6hwABwAACAwAAAiYAAAAABzqAAAACAAAAAAAAAAAAAAAAAAAAAAAAAAAAAAAAAAAAAAAAAAAAAAAAAAAAAAAAAAAAAAAAAAAAAAAAAAAAAAAAAAAAAAAAAAAAAAAAAAAAAAAAAAAAAAAAAAAAAAAAAAAAAAAAAAAAAAAAAAAAAAAAAAAAAAAAAAAAAAAAAAAAAAAAAAAAAAAAAAAAAAAAAAAAAAAAAAAAAAAAAAAAAAAAAAAAAAAAAAAAAAAAAAAAAAAAAAAAAAAAAAAAAAAAAAAAAAAAAAAAAAAAAAAAAAAAAAAAAAAAAAAAAAAAAAAAAAAAAAAAAAAAAAAAAAAAAAAAAAAAAAAAAAAAAAAAAAAAAAAAAAAAAAAAAAAAAAAAAAAAAAAAAAAAAAAAAAAAAAAAAAAAAAAAAAAAAAAAAAAAAAAAAAAAAAAAAAAAAAAAAAAAAAAAAAAAAAAAAAAAAAAAAAAAAAAAAAAAAAAAAAAAAAAAAAAAAAAAAAAAAAAAAAAAAAAAAAAAAAAAAAAAAAAAAAAAAAAAAAAAAAAAAAAAAAAAAAAAAAAAAAAAAAAAAAAAAAAAAAAAAAAAAAAAAAAAAAAAAAAAAAAAAAAAAAAAAAAAAAAAAAAAAAAAAAAAAAAAAAAAAAAAAAAAAAAAAAAAAAAAAAAAAAAAAAAAAAAAAAAAAAAAAAAAAAAAAAAAAAAAAAAAAAAAAAAAAAAAAAAAAAAAAAAAAAAAAAAAAAAAAAAAAAAAAAAAAAAAAAAAAAAAAAAAAAAAAAAAAAAAAAAAAAAAAAAAAAAAAAAAAAAAAAAAAAAAAAAAAAAAAAAAAAAAAAAAAAAAAAAAAAAAAAAAAAAAAAAAAAAAAAAAAAAAAAAAAAAAAAAAAAAAAAAAAAAAAAAAAAAAAAAAAAAAAAAAAAAAAAAAAAAAAAAAAAAAAAAAAAAAAAAAAAAAAAAAAAAAAAAAAAAAAAAAAAAAAAAAAAAAAAAAAAAAAAAAAAAAAAAAAAAAAAAAAAAAAAAAAAAAAAAAAAAAAAAAAAAAAAAAAAAAAAAAAAAAAAAAAAAAAAAAAAAAAAAAAAAAAAAAAAAAAAAAAAAAAAAAAAAAAAAAAAAAAAAAAAAAAAAAAAAAAAAAAAAAAAAAAAAAAAAAAAAAAAAAAAAAAAAAAAAAAAAAAAAAAAAAAAAAAAAAAAAAAAAAAAAAAAAAAAAAAAAAAAAAAAAAAAAAAAAAAAAAAAAAAAAAAAAAAAAAAAAAAAAAAAAAAAAAAAAAAAAAAAAAAAAAAAAAAAAAAAAAAAAAAAAAAAAAAAAAAAAAAAAAAAAAAAAAAAAAAAAAAAAAAAAAAAAAAAAAAAAAAAAAAAAAAAAAAAAAAAAAAAAAAAAAAAAAAAAAAAAAAAAAAAAAAAAAAAAAAAAAAAAAAAAAAAAAAAAAAAAAAAAAAAAAAAAAAAAAAAAAAAAAAAAAAAAAAAAAAAAAAAAAAAAAAAAAAAAAAAAAAAAAAAAAAAAAAAAAAAAAAAAAAAAAAAAAAAAAAAAAAAAAAAAAAAAAAAAAAAAAAAAAAAAAAAAAAAAAAAAAAAAAAAAAAAAAAAAAAAAAAAAAAAAAAAAAAAAAAAAAAAAAAAAAAAAAAAAAAAAAAAAAAAAAAAAAAAAAAAAAAAAAAAAAAAAAAAAAAAAAAAAAAAAAAAAAAAAAAAAAAAAAAAAAAAAAAAAAAAAAAAAAAAAAAAAAAAAAAAAAAAAAAAAAAAAAAAAAAAAAAAAAAAAAAAAAAAAAAAAAAAAAAAAAAAAAAAAAAAAAAAAAAAAAAAAAAAAAAAAAAAAAAAAAAAAAAAAAAAAAAAAAAAAAAAAAAAAAAAAAAAAAAAAAAAAAAAAAAAAAAAAAAAAAAAAAAAAAAAAAAAAAAAAAAAAAAAAAAAAAAAAAAAAAAAAAAAAAAAAAAAAAAAAAAAAAAAAAAAAAAAAAAAAAAAAAAAAAAAAAAAAAAAAAAAAAAAAAAAAAAAAAAAAAAAAAAAAAAAAAAAAAAAAAAAAAAAAAAAAAAAAAAAAAAAAAAAAAAAAAAAAAAAAAAAAAAAAAAAAAAAAAAAAAAAAAAAAAAAAAAAAAAAAAAAAAAAAAAAAAAAAAAAAAAAAAAAAAAAAAAAAAAAAAAAAAAAAAAAAAAAAAAAAAAAAAAAAAAAAAAAAAAAAAAAAAAAAAAAAAAAAAAAAAAAAAAAAAAAAAAAAAAAAAAAAAAAAAAAAAAAAAAAAAAAAAAAAAAAAAAAAAAAAAAAAAAAAAAAAAAAAAAAAAAAAAAAAAAAAAAAAAAAAAAAAAAAAAAAAAAAAAAAAAAAAAAAAAAAAAAAAAAAAAAAAAAAAAAAAAAAAAAAAAAAAAAAAAAAAAAAAAAAAAAAAAAAAAAAAAAAAAAAAAAAAAAAAAAAAAAAAAAAAAAAAAAAAAAAAAAAAAAAAAAAAAAAAAAAAAAAAAAAAAAAAAAAAAAAAAAAAAAAAAAAAAAAAAAAAAAAAAAAAAAAAAAAAAAAAAAAAAAAAAAAAAAAAAAAAAAAAAAAAAAAAAAAAAAAAAAAAAAAAAAAAAAAAAAAAAAAAAAAAAAAAAAAAAAAAAAAAAAAAAAAAAAAAAAAAAAAAAAAAAAAAAAAAAAAAAAAAAAAAAAAAAAAAAAAAAAAAAAAAAAAAAAAAAAAAAAAAAAAAAAAAAAAAAAAAAAAAAAAAAAAAAAAAAAAAAAAAAAAAAAAAAAAAAAAAAAAAAAAAAAAAAAAAAAAAAAAAAAAAAAAAMjAyMTowNDoyOCAxMjoyNTo0MgAyMDIxOjA0OjI4IDEyOjI1OjQyAAAAUAByAGEAdgBhAGwAbABpAGsAYQAAAP/hCx1odHRwOi8vbnMuYWRvYmUuY29tL3hhcC8xLjAvADw/eHBhY2tldCBiZWdpbj0n77u/JyBpZD0nVzVNME1wQ2VoaUh6cmVTek5UY3prYzlkJz8+DQo8eDp4bXBtZXRhIHhtbG5zOng9ImFkb2JlOm5zOm1ldGEvIj48cmRmOlJERiB4bWxuczpyZGY9Imh0dHA6Ly93d3cudzMub3JnLzE5OTkvMDIvMjItcmRmLXN5bnRheC1ucyMiPjxyZGY6RGVzY3JpcHRpb24gcmRmOmFib3V0PSJ1dWlkOmZhZjViZGQ1LWJhM2QtMTFkYS1hZDMxLWQzM2Q3NTE4MmYxYiIgeG1sbnM6ZGM9Imh0dHA6Ly9wdXJsLm9yZy9kYy9lbGVtZW50cy8xLjEvIi8+PHJkZjpEZXNjcmlwdGlvbiByZGY6YWJvdXQ9InV1aWQ6ZmFmNWJkZDUtYmEzZC0xMWRhLWFkMzEtZDMzZDc1MTgyZjFiIiB4bWxuczp4bXA9Imh0dHA6Ly9ucy5hZG9iZS5jb20veGFwLzEuMC8iPjx4bXA6Q3JlYXRlRGF0ZT4yMDIxLTA0LTI4VDEyOjI1OjQyLjc0NzwveG1wOkNyZWF0ZURhdGU+PC9yZGY6RGVzY3JpcHRpb24+PHJkZjpEZXNjcmlwdGlvbiByZGY6YWJvdXQ9InV1aWQ6ZmFmNWJkZDUtYmEzZC0xMWRhLWFkMzEtZDMzZDc1MTgyZjFiIiB4bWxuczpkYz0iaHR0cDovL3B1cmwub3JnL2RjL2VsZW1lbnRzLzEuMS8iPjxkYzpjcmVhdG9yPjxyZGY6U2VxIHhtbG5zOnJkZj0iaHR0cDovL3d3dy53My5vcmcvMTk5OS8wMi8yMi1yZGYtc3ludGF4LW5zIyI+PHJkZjpsaT5QcmF2YWxsaWthPC9yZGY6bGk+PC9yZGY6U2VxPg0KCQkJPC9kYzpjcmVhdG9yPjwvcmRmOkRlc2NyaXB0aW9uPjwvcmRmOlJERj48L3g6eG1wbWV0YT4NCiAgICAgICAgICAgICAgICAgICAgICAgICAgICAgICAgICAgICAgICAgICAgICAgICAgICAgICAgICAgICAgICAgICAgICAgICAgICAgICAgICAgICAgICAgICAgICAgICAgICAKICAgICAgICAgICAgICAgICAgICAgICAgICAgICAgICAgICAgICAgICAgICAgICAgICAgICAgICAgICAgICAgICAgICAgICAgICAgICAgICAgICAgICAgICAgICAgICAgICAgIAogICAgICAgICAgICAgICAgICAgICAgICAgICAgICAgICAgICAgICAgICAgICAgICAgICAgICAgICAgICAgICAgICAgICAgICAgICAgICAgICAgICAgICAgICAgICAgICAgICAgCiAgICAgICAgICAgICAgICAgICAgICAgICAgICAgICAgICAgICAgICAgICAgICAgICAgICAgICAgICAgICAgICAgICAgICAgICAgICAgICAgICAgICAgICAgICAgICAgICAgICAKICAgICAgICAgICAgICAgICAgICAgICAgICAgICAgICAgICAgICAgICAgICAgICAgICAgICAgICAgICAgICAgICAgICAgICAgICAgICAgICAgICAgICAgICAgICAgICAgICAgIAogICAgICAgICAgICAgICAgICAgICAgICAgICAgICAgICAgICAgICAgICAgICAgICAgICAgICAgICAgICAgICAgICAgICAgICAgICAgICAgICAgICAgICAgICAgICAgICAgICAgCiAgICAgICAgICAgICAgICAgICAgICAgICAgICAgICAgICAgICAgICAgICAgICAgICAgICAgICAgICAgICAgICAgICAgICAgICAgICAgICAgICAgICAgICAgICAgICAgICAgICAKICAgICAgICAgICAgICAgICAgICAgICAgICAgICAgICAgICAgICAgICAgICAgICAgICAgICAgICAgICAgICAgICAgICAgICAgICAgICAgICAgICAgICAgICAgICAgICAgICAgIAogICAgICAgICAgICAgICAgICAgICAgICAgICAgICAgICAgICAgICAgICAgICAgICAgICAgICAgICAgICAgICAgICAgICAgICAgICAgICAgICAgICAgICAgICAgICAgICAgICAgCiAgICAgICAgICAgICAgICAgICAgICAgICAgICAgICAgICAgICAgICAgICAgICAgICAgICAgICAgICAgICAgICAgICAgICAgICAgICAgICAgICAgICAgICAgICAgICAgICAgICAKICAgICAgICAgICAgICAgICAgICAgICAgICAgICAgICAgICAgICAgICAgICAgICAgICAgICAgICAgICAgICAgICAgICAgICAgICAgICAgICAgICAgICAgICAgICAgICAgICAgIAogICAgICAgICAgICAgICAgICAgICAgICAgICAgICAgICAgICAgICAgICAgICAgICAgICAgICAgICAgICAgICAgICAgICAgICAgICAgICAgICAgICAgICAgICAgICAgICAgICAgCiAgICAgICAgICAgICAgICAgICAgICAgICAgICAgICAgICAgICAgICAgICAgICAgICAgICAgICAgICAgICAgICAgICAgICAgICAgICAgICAgICAgICAgICAgICAgICAgICAgICAKICAgICAgICAgICAgICAgICAgICAgICAgICAgICAgICAgICAgICAgICAgICAgICAgICAgICAgICAgICAgICAgICAgICAgICAgICAgICAgICAgICAgICAgICAgICAgICAgICAgIAogICAgICAgICAgICAgICAgICAgICAgICAgICAgICAgICAgICAgICAgICAgICAgICAgICAgICAgICAgICAgICAgICAgICAgICAgICAgICAgICAgICAgICAgICAgICAgICAgICAgCiAgICAgICAgICAgICAgICAgICAgICAgICAgICAgICAgICAgICAgICAgICAgICAgICAgICAgICAgICAgICAgICAgICAgICAgICAgICAgICAgICAgICAgICAgICAgICAgICAgICAKICAgICAgICAgICAgICAgICAgICAgICAgICAgICAgICAgICAgICAgICAgICAgICAgICAgICAgICAgICAgICAgICAgICAgICAgICAgICAgICAgICAgICAgICAgICAgICAgICAgIAogICAgICAgICAgICAgICAgICAgICAgICAgICAgICAgICAgICAgICAgICAgICAgICAgICAgICAgICAgICAgICAgICAgICAgICAgICAgICAgICAgICAgICAgICAgICAgICAgICAgCiAgICAgICAgICAgICAgICAgICAgICAgICAgICAgICAgICAgICAgICAgICAgICAgICAgICAgICAgICAgICAgICAgICAgICAgICAgICAgICAgICAgICAgICAgICAgICAgICAgICAKICAgICAgICAgICAgICAgICAgICAgICAgICAgICAgICAgICAgICAgICAgICAgICAgICAgICAgICAgICAgICAgICAgICAgICAgICAgICAgICAgICAgICAgICAgICAgICAgICAgIAogICAgICAgICAgICAgICAgICAgICAgICAgICAgPD94cGFja2V0IGVuZD0ndyc/Pv/bAEMABwUFBgUEBwYFBggHBwgKEQsKCQkKFQ8QDBEYFRoZGBUYFxseJyEbHSUdFxgiLiIlKCkrLCsaIC8zLyoyJyorKv/bAEMBBwgICgkKFAsLFCocGBwqKioqKioqKioqKioqKioqKioqKioqKioqKioqKioqKioqKioqKioqKioqKioqKioqKv/AABEIASgBowMBIgACEQEDEQH/xAAfAAABBQEBAQEBAQAAAAAAAAAAAQIDBAUGBwgJCgv/xAC1EAACAQMDAgQDBQUEBAAAAX0BAgMABBEFEiExQQYTUWEHInEUMoGRoQgjQrHBFVLR8CQzYnKCCQoWFxgZGiUmJygpKjQ1Njc4OTpDREVGR0hJSlNUVVZXWFlaY2RlZmdoaWpzdHV2d3h5eoOEhYaHiImKkpOUlZaXmJmaoqOkpaanqKmqsrO0tba3uLm6wsPExcbHyMnK0tPU1dbX2Nna4eLj5OXm5+jp6vHy8/T19vf4+fr/xAAfAQADAQEBAQEBAQEBAAAAAAAAAQIDBAUGBwgJCgv/xAC1EQACAQIEBAMEBwUEBAABAncAAQIDEQQFITEGEkFRB2FxEyIygQgUQpGhscEJIzNS8BVictEKFiQ04SXxFxgZGiYnKCkqNTY3ODk6Q0RFRkdISUpTVFVWV1hZWmNkZWZnaGlqc3R1dnd4eXqCg4SFhoeIiYqSk5SVlpeYmZqio6Slpqeoqaqys7S1tre4ubrCw8TFxsfIycrS09TV1tfY2dri4+Tl5ufo6ery8/T19vf4+fr/2gAMAwEAAhEDEQA/APck6Uks8cOzzGwXYKo9SaiuLuKztzJKfoO7H0rnVvJb3V7eSU/8tV2qOijIoA6eNsvKP7rY/QVJUEBzNc+0oH/ji1PQAUUUUAFFFFAEV1dW9lay3N5PHb28Kl5JZXCIijqSTwB70+ORJolkidXjcBlZTkMD0INcX4/1O1N7o2gXcVxcQXlx9pvYre0luW+zw4bBSNWOGk8tTxjBNT/DjU0udAn0oCZX0a4azVbiCSGTyR80LMkgDDMZXqOSDQtb/wBf1r+oPS39f1/wx19FFFABRRRQAVGG/wBIdewVT+p/wqSoEP8Ap8o9IkP6tQBPRRRQAUUUUAFFFFABRRRQAUUUUARXV1b2VrLc3k8dvbwqXkllcIiKOpJPAHvVLS/Eeia48iaJrGn6i0QBkW0uklKA9CdpOKyfiV/yS/xH/wBg6b/0E1lCS/T4haBeeJbO1sWktp7OxNhctcLJIyh2WV2SMqNseVUKwJ3ZI4BFqweiv/XQ72iiigAooooAKKKKACiiigAooooAKjhbdbxseSVB/SpKgsjusLc+sSn9KAJ6KKKACmu6xxs8jBEUEszHAA9TTq47xWsepeNfDWiaiqyaZci5uJYHGUuJYlUxow7gbmbB4JUelHWwG5pnijQNauWttG1zTdQnVC7RWl3HKwXIGcKScZI5961ajMMTTJK0aGSMEI5UZUHGQD2zgflUlABRRRQAVHC263jY8kqD+lSVBZHdYW59YlP6UAT0UUUAFFFFAGBc6Vf3s3mSyw/7K7jhR+VJbaFcw3UUjPCVRwxwT2P0rRt49MunmSBLSZ4H8uZUCsY2wDtbHQ4IOD2IqU6bYnrZW5/7ZL/hQAWpzc3vtOB/5DSrVeP+PGaz8WTQ2hMEQjQhIjtUcegrnPtlz/z8S/8AfZr1KWXTqwU1Lc454uMJONj6Dor58+2XP/PxL/32aPtlz/z8S/8AfZrX+yp/zIj67HsfQdFfPn2y5/5+Jf8Avs0fbLn/AJ+Jf++zR/ZU/wCZB9dj2PcIdDt4vE1zrhkmkup7ZLYK5GyKNSWwoAzyWyck9B0xSw6HbW/iW51uF5kuLq3SCaMMPLfYSVcjGdwDEZz0rxOU6lDbxTzG6jhnBMUj7gsmOu098e1RfbLn/n4l/wC+zSWVT6SQPGx6o+g6K+fPtlz/AM/Ev/fZo+2XP/PxL/32af8AZU/5kH12PY+g6K8Q8Mo2qeJrCyu55zDPKEcLKQcH3r1v/hWuh/8APbUP/Ao1xYjDLDy5ZP8AA6KVZ1VeKNSqsZ/4m04/6YRH/wAekqr/AMK10P8A57ah/wCBRryTxpanQfiNfaZp9zdC1jsbaRVedm+Zmlyf0H5Coo0VWmoRer8iqlR04uTR7fRXz59suf8An4l/77NH2y5/5+Jf++zXof2VP+ZHL9dj2PoOivnz7Zc/8/Ev/fZo+2XP/PxL/wB9mj+yp/zIPrsex9B0V8+fbLn/AJ+Jf++zUpOpCzF2TdfZi/lib5thbGdu7pnHal/ZU19pB9dj2PfqK+fPtlz/AM/Ev/fZo+2XP/PxL/32af8AZU/5kH12PY+g6K+fPtlz/wA/Ev8A32aPtlz/AM/Ev/fZo/sqf8yD67Hse6a5pEGv6De6TePJHBewtDI0RAcKwwSCQRn8DWdZeE0h1a21HU9X1HWLizVha/bPJVYCwwzKsUaAsRxlskDOMZOfHPtlz/z8S/8AfZo+2XP/AD8S/wDfZo/sqf8AMg+uxelj6Dor58+2XP8Az8S/99mj7Zc/8/Ev/fZo/sqf8yD67HsfQdFeAwnUriGWWD7VLHCA0rpuIjHqxHT8ai+2XP8Az8S/99ml/ZU/5kH12PY+g6K+fPtlz/z8S/8AfZo+2XP/AD8S/wDfZp/2VP8AmQfXY9j6Dorw280vXrB3W5iugY4lmk2OXEaN0LFSduffFZ32y5/5+Jf++zUrK5S2mhvGJbxPoOivOvh34cs/E1heyapNdl4JVVDHOV4I7/lXY/8ACtdD/wCe2of+BRrgqUo0puDeq8v+CdMJucVJI1Kq6ad2k2h9YEP/AI6Kzb74eaLbadczxy3xeKJnUNdHBIBNWvAOmWF58NvDV1eWNtPcTaTaySyywqzyMYVJZiRkkk5JNYyUVszRX6mlRV7+w9J/6Bdl/wCA6f4Uf2HpP/QLsv8AwHT/AAqRlGsvXfD9j4iskgvhIjwv5tvcQSGOW3kAIDow6EZ9wehBHFdF/Yek/wDQLsv/AAHT/Cj+w9J/6Bdl/wCA6f4UAc1pui3VlefaLzxBqmp4QqsV0IERckc4iiTJ475xziter39h6T/0C7L/AMB0/wAKP7D0n/oF2X/gOn+FAFGir39h6T/0C7L/AMB0/wAKP7D0n/oF2X/gOn+FAFGqumndpNofWBD/AOOitj+w9J/6Bdl/4Dp/hUNromlNZws2mWZJjUkm3Xnj6UAV6Kvf2HpP/QLsv/AdP8KP7D0n/oF2X/gOn+FAFGir39h6T/0C7L/wHT/CigDz34fWFppd94qstNtobW1h1jEcMKBEQfZoDwB712lZulaPb6XdalcW7yM+o3X2qUOQQreWiYXAHGEHXPOa0qd7pei/IOr9X+Z5P4ynt7b4jJPew+fbxmF5YsZ3qMEjn2rZ8VXd3r3h2+utH1az1LSI2V2tWtxFNZDPGOASO2T1GcetYnja9m074g/bLYqJYBE6blDDIHcGqWoeNb6+0yawgstO06C4I8/7DbeWZsf3jk19FRpSnTpSitv8/wCtjypTUak0+p0TeCPDQ8QJoQ1DUhqFzCJIG2IY4zs3YY4y3QnjHpml8PfDWC/0iG61E30r3EjIBZtEqwBWK7n3nJ5Gfl5qPX/iK8Wp50BLKZRbLHHeyWp86I7cMFY44z6giue03xjeafpiWE9hp2pW8TFolv7fzfKz128jqaajipQunbbf5+luhLdFNXR0ej/DSOZtQa/e8ultbtrZI7Exo7Ywd5MhwBgjjrVeXwJp2l6prLaxeXR03TIo5AbdV82TzPujnIyDx7+1Ylh4xu7AXcQ0/Tbi0upjObOe23Qxv6oueOOKW08Z3ljqV5c21hpqQXiBJrEW/wDo7ADA+TP179zV+zxV373T/L/gi5qPbqavjZbNPCXhkaZJLJabJzE0ygPjeODjjI6celT299L4T+HOnalokccd9qM8izXjRq7IFJAQZBxnH6Gub13xRe+IILSG8htoo7TeIlt4tgAYj5cZxgYAH9al0bxff6Np0mn+RZ39k7b/ALNfQ+Yit6gZFX7GfslFq+rbXdXYvaRU7rtb8DU0KwHjrWby71W0vZpVjTcNMjijDHpuZnIUE46d+fSuh0nwhoujePJNPvI5rtJLD7RBHcJG4TqGD9iwxwRXI2/jrUILu8kez06eC8VFe0ltswqE+7hQR0pG8daq3iC21cRWiT29v9nEaxERunPBXPv2x0FZ1KVeV4x0jbb5f5lRqU1rLV3/AF/yF8N/YR8RdP8A7J+0fY/tK+V9p2+ZjHOdvHXPSvbNWl1JNNkfRVgku0+ZY5wdsg/uggjB9CeP5jw3RdVhk8dWmpXUdrYw+eHdIE8uKMAdh26V63/wm/hz/oLW/wCZ/wAK4MwhN1I6dF+p04WUVF69S34ZvdbvtMF34ggt7WSXDRW8aMrovq+SeT6du/PA8b+JJH/C3tRJGR/Z1nkevzTV6z/wm/hz/oLW/wCZ/wAK8d8banbX/wAUr6902dJ4/sFptdeRkPN61lgYSjiItrv+TKxMk6Tszu9Q1GTxHoVzH4U1GzaySz/e6LPbKjwgLyyHHJHXrgH8qxrfwr4aii0NdTvdSW41eBCiQqhVHY4ySR93JAxgn3rNuPH+pTW08cFlptnNcoUnura1CTSA9ctnv9K1Ljx6unaTocOkxWN5La2iq5urYs1vKOMoTjnHpkV6KpVqa5Yq1389nu7d/mcvPTlv0X6roT6P8NI5m1Br97y6W1u2tkjsTGjtjB3kyHAGCOOtLa/DGNvEOp2001zPa2SxsiW+xZpd4JAyx2jGDn1rm9P8Z6jZLdpcQWepRXcxuJIr6DzE8w9WAyMGi28Y3dpqN3c2+n6akF4irNYfZv8AR229Dsz179e5rR08Xd+90/y/4JPNQ7dToLn4d2lp4lEFxdXMOmrYtfS7gpmRV4KZGVJ9xxUWuLpa/C2A6HJdPatqhOLtVEit5ZyDt4PrketYsfjO8ttcTU7Cw02yZYTC9vbW+yKVScncuefz7Cmax4vvdZ0ldNltLG1tUmE0cdpB5YQ4IwBnpyT65PWmqVduPO72sHPSV+Xz/L/O5b0TQtDl8JTa3rs98iw3n2fy7QIS4KgjG4cHJzknoK3dE+HVhq+iwztHq8Es0PmC5k8lYQ2Mj5M7yPfv1riU1u5Tw3JooSL7NJci5LkHfuC4xnOMfhW5Z/ETVLOG1AstNlmtYhClzLbkylAMbSwI4+mKdaniGm6b1v8Ahb/MVOVJNcy/q/8AkS6f4d8PJ4Z07VdcutQRrud4PLtQh5DYByRwAOvUnPFWovAVsuua5aM15fLpvleVBa7VllD85y2RwOvHPtXLy69dTaLZaY0cIhs5mmjYKdxLHJzzjH4V2GheMtOvm1ibxHJaW9zfyRNsnsWuLchBj7gO7P1OKVVV4pyT7/mrfhcIOm7Rf9b/APAI18CaTfeMn0nTLq7aG1tvOutzxtIXyP3akYUHkDnoazvGvg6Lw3bWV3a/ao4rksjQXZjaSNh7oSpBH5UureKLLTvFQvvCUFusP2fybhfs5SG5Jzu/dk8KeOOOlYuta7/bKwj+ytMsPKJ5sbfyt+cfe5OcY4+popRxDlGTenW+45OklJW1OssdDTWNC8I2d7eXJtruW4Xy12DysZPynbnnHcn8KztR8NaEfDeo32i3t9JcaXMkVx9oRQku5tuUA5Az6ntWdZeMtQsYdJjhhtiNJeR4Nyt8xfOd3zc9e2KqR+ILqPS9TsFjh8rUpFkmJU7lKtuG3njk981SpVlJtPS//t3+QlOnZJrp+j/Wx0PgOyl1LQ/EllblBLcQRRoZG2rkuRyaW28I6Nc+LrrRRc30aWVo7z3DhRmVcZKptzs56ZyfWua03XLrS9Pv7S2WMpfxqkjMDuUA5BUgjB/OtP8A4TjUjfLevb2j3X2NrOSZkbdKpAG5vm5YY6//AFqJ063PKUOv52FCdPlSl3/C5rnw54O/se11gX2riymnNt5WyPzGk9QegGOe9Vrbwglt8T10VnM1pbSCaR3H/LIKH+b/ANB/GufOu3J0G30jZD9nt7k3Ktg7y2MYJzjH4V0H/CXR3Vjr+p3jxR6xqUcdrHFDGwVY8AO2TnGQPXOaUo14Xs77r72rP5a3GnTlo1bb9b/hb5mro2pW+vN4zvtSmkjtZokJaNdzLGGIUAeuABXNeKNC03TrHS9R0Se5ktNRjdlS6C+YhUgHJXjv+nes7TtbudM07ULKBImj1CNY5S4JKgHPy4Pv3zSX2t3OoaRp+nTJEsOnq6xMgIZtxyd3P8sVcaM4VLx20+61vzsJ1FKL5t9fvuv+CekfB440vUv+uyf+gmuj1/UPFNpqVtHoVnZ3dvcsE3yqw8g4yS5DfdwCcge2M4zxPw017TNH02+XUr2K3aSVSgc8kAV2v/Cb+HP+gtb/AJn/AArwsXTm68mkehQlFU1qa+otINAuhM6vJ9lcOyLtBO05IGTge2T9az/hx/ySzwp/2BbP/wBEJVG/8ZeH59NuYo9Vt2eSJ1UZPJIIFXvhx/ySzwp/2BbP/wBEJXHKMo7o6IyT2OkoooqCgooooAKKKKACiiigAqGz/wCPGD/rmv8AKpqhs/8Ajxg/65r/ACoAmooooAKKKKAOM0q80DXIXl0e503UY422u9rJHKFOM4JXODV06bYnrZW5/wC2S/4VzHhzOueMrvxRa20lvpslilnbyyqUa9w5fzdp5CDOFJ5OSRwQT2NHQOpmWfg7wxq9xfTat4c0m+ljnEaPc2MUjKvlodoLKcDLE49SfWrf/CuPBH/Qm+H/APwVwf8AxNXtC+9qP/X0P/RUda1AHN/8K48Ef9Cb4f8A/BXB/wDE0f8ACuPBH/Qm+H//AAVwf/E10lFAHN/8K48Ef9Cb4f8A/BXB/wDE0f8ACuPBH/Qm+H//AAVwf/E10lFAHLXPgLwBZ27T3fhTw3BCuN0kunQKoycDJK46mpf+FceCP+hN8P8A/grg/wDiaz/ipYQ3Hgqe6lM3mW8kJjCzuqczIPmQHa3tuBx2rtKOl/66B1Ob/wCFceCP+hN8P/8Agrg/+Jo/4Vx4I/6E3w//AOCuD/4mukooA5v/AIVx4I/6E3w//wCCuD/4mj/hXHgj/oTfD/8A4K4P/ia6SigDm/8AhXHgj/oTfD//AIK4P/ia5+z8A+D2+JOs2reE9DNvHpNhIkR02HYrNNeBmA24BIRQT32j0FeiVzdj/wAlT13/ALAum/8Ao++oAP8AhXHgj/oTfD//AIK4P/iaP+FceCP+hN8P/wDgrg/+JrpKKAOb/wCFceCP+hN8P/8Agrg/+Jo/4Vx4I/6E3w//AOCuD/4mukooA5v/AIVx4I/6E3w//wCCuD/4mj/hXHgj/oTfD/8A4K4P/ia6SigDm/8AhXHgj/oTfD//AIK4P/iaP+FceCP+hN8P/wDgrg/+Jo8TmbSt2sw+JI9KCoEaG/Ae1lIDEDbw4Y56o3O0cNVjQtSufEmjTHU9NuNPDExhkkkj81cffQkJIv4qp9M9aN9gehSg8BeALnzPs3hTw3L5TmOTy9OgbY46qcLwR6VV0/wr8MdWlePS9B8JXskYy6W1nbSFR6kKDik8AWFsNG8QaeyF7b+2buEpI7OWXIBBYnJ47k5puqhrTxvorXkMNkkMVzDpgtDv80+XnbJkLsAVeFUMMj7wwAR2Sv5X/C4au68/1JY/CXwzm1N9Oi8P+FHvkzutVsrYyrjrlMZH5U7U/Bnw80bT5L7UvCfh+G2jKhn/ALJibBZgo4CE9SK5xFWP4Q+Gr2L/AI+lvrW4Vx94yvN85+p3MDXS/E9tvw71BjkgPAeBk/65O1U1Z2fe35f5iTvt2v8AmWf+FceCP+hN8P8A/grg/wDiaP8AhXHgj/oTfD//AIK4P/ia5+78S6ze+EdW8SWWoGx8qQW9vp5gQtbkShWMwZd3mHP3QQACOp5rR266njFNDbxJctBNYfa3m+ywCVHV9pCHZtCncPvKx44POaVun9bXC/8AX4Fuf4f+A7W2kuLjwh4ejiiQu7nS4cKoGSfu1StPCvw2vr2K0tfCugPPLaLeoh0eMZhY4Dcp69uvtVWfV7zW/h3aWd03m3uq3p0t5FULvVZWWR8DgExxseOATxU13ZT3Hxa8ixv5NOVNCTLwRoz7RM2FG8Mo7fwn8KEtf67X/wAge39d7f5mr/wrjwR/0Jvh/wD8FcH/AMTR/wAK48Ef9Cb4f/8ABXB/8TU3gzVbrWPDMVxfuJLmOaWCSQKF8wxyMm7A4BIAJxxnOK3qQzm/+FceCP8AoTfD/wD4K4P/AImj/hXHgj/oTfD/AP4K4P8A4mukooA5v/hXHgj/AKE3w/8A+CuD/wCJo/4Vx4I/6E3w/wD+CuD/AOJrpKKAOb/4Vx4I/wChN8P/APgrg/8Aiah+HVrbt8LfCrNBESdGsySUHP7lK6qub+HH/JLPCn/YFs//AEQlAG99jtv+feL/AL4FH2O2/wCfeL/vgVNRQBD9jtv+feL/AL4FH2O2/wCfeL/vgVNRQBD9jtv+feL/AL4FH2O2/wCfeL/vgVNRQBD9jtv+feL/AL4FH2O2/wCfeL/vgVNRQBD9jtv+feL/AL4FRWtrbtZws0ERJjUklBzxVuobP/jxg/65r/KgA+x23/PvF/3wKPsdt/z7xf8AfAqaigCH7Hbf8+8X/fAoqaigDi9K0e9sLnzbnxFqWpJtKiG6jtlQH1/dwo2fxxz0rYrI0q70HXLdp9HuNN1GJG2NJavHKqtjOCVzg89KunTbE9bK3P8A2yX/AApgaGhfe1H/AK+h/wCio61q5Cz8HeGNXuL6bVvDmk30sc4jR7mxikZV8tDtBZTgZYnHqT61b/4Vx4I/6E3w/wD+CuD/AOJpAdJRXN/8K48Ef9Cb4f8A/BXB/wDE0f8ACuPBH/Qm+H//AAVwf/E0AdJRXN/8K48Ef9Cb4f8A/BXB/wDE0f8ACuPBH/Qm+H//AAVwf/E0AW/EnhxPE1j9iudRvLW2bBkjtvK/eEMGBJdGIwVHQj3zWnaQSW1qkU11NduvWaYIGbnvsVV/ICuU1Hwl8NNI8v8Atbw/4UsfNz5f2myto9+OuNwGcZH51bX4d+BnQOng/wAPMrDII0yAgj/vmjoHU6aiub/4Vx4I/wChN8P/APgrg/8AiaP+FceCP+hN8P8A/grg/wDiaAOkorm/+FceCP8AoTfD/wD4K4P/AImj/hXHgj/oTfD/AP4K4P8A4mgDpK5ux/5Knrv/AGBdN/8AR99R/wAK48Ef9Cb4f/8ABXB/8TXP2fgHwe3xJ1m1bwnoZt49JsJEiOmw7FZprwMwG3AJCKCe+0egoA9Eorm/+FceCP8AoTfD/wD4K4P/AImj/hXHgj/oTfD/AP4K4P8A4mgDpKK5v/hXHgj/AKE3w/8A+CuD/wCJo/4Vx4I/6E3w/wD+CuD/AOJoA6Siub/4Vx4I/wChN8P/APgrg/8Aiaij8BeAJbiWCLwp4beaHHmxrp0BaPIyNw25GR0zQBuPo2nSawuqy2UMl+kYjS4ddzxqN3Ck/d+82cYznmrNxE81vJHHPJbuykCWMKWQ+o3AjP1BFclH4S+Gc2pvp0Xh/wAKPfJndarZWxlXHXKYyPyqxJ4C8ARXEUEvhTw2k02fKjbToA0mBk4G3JwOuKOgdSxpfhCHTLfUIDquo3UGoPJJPHM0S/vH+86tGisDx2OB6VLZeGI7fU7e/vtTv9UuLWMx2xvGjxCDwxARFyxAwWbJ/Wq//CuPBH/Qm+H/APwVwf8AxNRf8IF4A+1/Zf8AhFPDf2jZ5nk/2dBv2Zxu27c4zxmmIng8F2ME1uPtd5JY2twbm3092QwxSZJBHy7yASSAWIB7cCtLXdFt/EGjzabevKkMpQs0RAYbWDDGQR1Udq5x/Cvwxj1QabJoPhJL8kAWrWdsJSSMgbMZ6c9Kde+Evhnpk8UOpeH/AApaSzf6pJ7K2jZ+ccAjn8KNdBl7VfBGnareXlwbi7tPtyIt3FbMgScoQVZgyn5hjGRjjg1qtpEDeIU1gvJ9oS1NqFyNm0sGzjGc5HrWT/wrnwOP+ZN8P/8Agrg/+Jqppngz4eazpsN/pvhPw/NazAmOT+yYl3YJB4KA9QaX6AS2Hhh9P8R2CweY2mWEVxNG8rKS1xPISeBg/Kpbt/F1PNbQ0W3HiVtc3y/aWtBaFMjZsDl84xnOT6/hWX/wrjwR/wBCb4f/APBXB/8AE0f8K48Ef9Cb4f8A/BXB/wDE0B3NTRNGt9B082dm8rxmaSbMpBOXYsegHGTWhXDt4c+GSOFbwx4fy19/Z4xo8ZzPjOzOz079PetT/hXHgj/oTfD/AP4K4P8A4mjoHU6Siub/AOFceCP+hN8P/wDgrg/+Jo/4Vx4I/wChN8P/APgrg/8AiaAOkorm/wDhXHgj/oTfD/8A4K4P/iaP+FceCP8AoTfD/wD4K4P/AImgDpK5v4cf8ks8Kf8AYFs//RCUf8K48Ef9Cb4f/wDBXB/8TUPw6tbdvhb4VZoIiTo1mSSg5/cpQB1VFQ/Y7b/n3i/74FH2O2/594v++BQBNRUP2O2/594v++BR9jtv+feL/vgUATUVD9jtv+feL/vgUfY7b/n3i/74FAE1FQ/Y7b/n3i/74FH2O2/594v++BQBNUNn/wAeMH/XNf5UfY7b/n3i/wC+BUVra27WcLNBESY1JJQc8UAW6Kh+x23/AD7xf98Cj7Hbf8+8X/fAoAmoqH7Hbf8APvF/3wKKAPNdA89fiLqMutQJZ6ndadF5cNs/mQPDG7AsJCFZ3DOAcouAQBu612lYuj+HY9Nv5tQub+81O/mQRG6vCm5IxyEVY1RFGeThck9ScDG1R0S/rcOrf9bE2hfe1H/r6H/oqOtasnQvvaj/ANfQ/wDRUda1ABRRRQAUUUUAYniK80vQrSfWL22Sa6eIWsSqm6W4JJ2woOp3E9B9T0pvgvS7rRfBum2GoYFzFFmRAciMkltg9lzj8KXVfC66prltqy6pfWlxaxGOEQiFkTJ5YLJG2GI43DBxx61qWVtLaWoinvZ71wSTNOqBj7fIqr+lNbA9yxRRRSAKKKKACubsf+Sp67/2BdN/9H31dJXN2P8AyVPXf+wLpv8A6PvqAOkooooAKKKKAEYblIOcEY4OK4jwvaR6X4t8Zw2ZlIja2ZTNM8zkmHPLOSx59TXbsMqQCVJHUdqwtK8Lf2VrV1qY1rUbmW8Km5SdYNkpVdq52xKRgehHvmjv5oOqZxaKsfwh8NXsX/H0t9a3CuPvGV5vnP1O5ga3tYsIYPix4au0MxluI7wPvnd1GI1xtUkqn/AQM960oPBdjBNbj7XeSWNrcG5t9PdkMMUmSQR8u8gEkgFiAe3Ap+o+FTqOvW2rNrepQTWm/wCzpEsGyIOAGA3REnOO5Ptiqur383+KsTb9PzbL7aldDU/so0W+aHcB9sDweVjHXHmb8dvu5rm7GwhsfjHd+QZiZtGEjmWd5TkznpvJwPYYA7Cu0rATwqU8THXDrepNcmPyShW32GLfu8vHlZxk9c7vektGvn+Q3qn8vzMnx5Zpa+GbpPssFvpLTLc311Cc3Ct5gYsqEAE9PmL5A6KcAUzTY4dR1fxwbwLKrGO3ywH+p+zggfTLMa17nwdb3jSRXOp6lLp8k/nvpzyIYSc7tuSnmbd3O3fj2xxUmpeFLe/vLq4iv72xN7EIbtLVkC3CgEDO5WKnBIypU479Km14td/+B/lYq9pJ9v6/4IzwLPLc/D7RZbhmaRrKPLN1Py4z+Vcb8NdWvdU03TdGtLltMg06AzzFoh5t6GkfAj3qR5YPDMOc8DHU+m2trBZWcVpaxiKCGMRxovRVAwB+Vc/D4G06203Sra0uLuCXSWY214jp5wDEllJK7SpzyCPSrbTk33/4JCTUbHNWureJX8MaNrB19mn1DUFtWhe0iMKozsgOAAxYYBzuA46VvWetXOkaj4itdVvpb+30u1ivEnmSNZNrK5ZDsVVPMeRxnnvV+LwlYRaJp+lrLcGDT7pbqJiy7mZXLgMcYxk9gKp+IvDD3txNLY+Yz6pNaw325l2pbxMzEgHByQSp69Rx1pbq3n/kV5/1vr+BzmpaddWvhHwhEXFtf3OtQ3E0mzdsmlEjscd8Fv0FdPoV9fR+K9X0S+vpb+O1ignhnmjjWQBwwKnYqqQCuRxnk1q6rotvrDWBuXlT7DdpdxeWQMuoIAOQeOT0x9aINGt7fxBeawjym4u4Y4ZFJGwBM4wMZz8x707rX1f5IVn+C/PU0KKKKkYUUUUAFc38OP8AklnhT/sC2f8A6ISukrm/hx/ySzwp/wBgWz/9EJQB0lFFFABRRRQAUUUUAFFFFABUNn/x4wf9c1/lU1Q2f/HjB/1zX+VAE1FFFABRRRQBycI0qe7mtIxZyXMAVpYV2l4w2dpZeozg4z1xUx02xPWytz/2yX/CvOPh3e6UPiDrccOvWGq317Y2k001vco4nmDTmTYATwoKADsu3Neo02rCvqzMs/B3hjV7i+m1bw5pN9LHOI0e5sYpGVfLQ7QWU4GWJx6k+tW/+FceCP8AoTfD/wD4K4P/AImr2hfe1H/r6H/oqOtakM5v/hXHgj/oTfD/AP4K4P8A4mj/AIVx4I/6E3w//wCCuD/4mukooA5v/hXHgj/oTfD/AP4K4P8A4mj/AIVx4I/6E3w//wCCuD/4mukooA47UfCXw00jy/7W8P8AhSx83Pl/abK2j34643AZxkfnVtPh54FljWSLwh4edGAZWXTICCD0IO2tTUrWZTJeaXYWdxqDxiAtdSmMeXycZCsTyfu8Z9eKzfh99kXwNYR2EsssUQeMmZAjKwdgy7QSAAcgAE8Y5NC2Bh/wrjwR/wBCb4f/APBXB/8AE0f8K48Ef9Cb4f8A/BXB/wDE10lFAHN/8K48Ef8AQm+H/wDwVwf/ABNH/CuPBH/Qm+H/APwVwf8AxNdJRQBzf/CuPBH/AEJvh/8A8FcH/wATXP2fgHwe3xJ1m1bwnoZt49JsJEiOmw7FZprwMwG3AJCKCe+0egr0Subsf+Sp67/2BdN/9H31AB/wrjwR/wBCb4f/APBXB/8AE0f8K48Ef9Cb4f8A/BXB/wDE10lFAHN/8K48Ef8AQm+H/wDwVwf/ABNH/CuPBH/Qm+H/APwVwf8AxNdJRQBzf/CuPBH/AEJvh/8A8FcH/wATVe98EfDvTLU3OpeGPDFpACAZZ9Pt41BPQZK4rrK5XxDHNa+MtF1ee1uLrTraKeNhbQNM0ErgbZNiAsQVDLkA4z70dQ6C2/gHwDeW0dxaeE/Dc8Ei7kli02BlYeoIXBFFt4C8AXlus9p4U8NzwvnbJFp0DK2Dg4IXHUVneEIINWj8T2gju4NMOpsYYw8ls65RWcDaVZQWJO3jrgjqKn+Hs8ln8K9Jkt7Oe8ZUYCCBkDH943Quyrx7mn0v6fiLrb1/AuS/D3wJBC8s3hDw7HHGpZ3fTIAFA6knbwKjk8DfD2GxN7L4X8MpaBPMNw2n24jC9d27bjHvS+LYRrPw/wBWkv7K9sWitJ3WB7nYxIjON3kyFWX/AGSSPUVl358zRPAVtJzBNc2xkUjhtsBZQf8AgQB/ChK+nmvxBu2vr+BoWngv4c6hZm7sPDfhe5thnM0Nhbugx1+YLjim6f4P+G2rxu+leHfCt8kZw7W1jbSBT6HapxXNeM2MPiDxFawnbb3kWm/agOh3TlGz6ZQAH2rqbtRb/FjSvs4C+fpU6TBe6o6FM/Qk4+poWtvO/wCCuD0v5W/EZP4M+HlrqVpp8/hPw+t1eBzBH/ZMR3hAC3ITAwCOtW/+FceCP+hN8P8A/grg/wDiaw/iFrX/AAj/AIp8O6mLWW6NvBesIolJJ/dpycA4UdSewBNTyz69/aHh2yHiTedV8+aee2t4SgUIGVYcqflHZm3E5yfQCV1f+uoGr/wrjwR/0Jvh/wD8FcH/AMTVa98E/D3TlgN54S8Px/aJlgi/4lMJ3OxwF4SsabVvEFr4f8Qai2uSSNoV5JFEn2aEfaVUq2JTt6kNtymzGM8mugvm/tTx7pVnszFp1u9/LnoJHzHGPy8w/gKLbef/AA/5A3a/9eX5law8GfDzVFuDY+E/D8otp3tpf+JTEu2RfvLygzj1HFW/+FceCP8AoTfD/wD4K4P/AImuRtZ9U0rw74t1qw1SSAWOsXUq2ghjaOXDgsHLAtyOPlK4969Phk82FJAMB1DY+oo6J+n4oOrXr+DOe/4Vx4I/6E3w/wD+CuD/AOJo/wCFceCP+hN8P/8Agrg/+JrpKKQzm/8AhXHgj/oTfD//AIK4P/iaP+FceCP+hN8P/wDgrg/+JrpKKAOb/wCFceCP+hN8P/8Agrg/+JqH4dWtu3wt8Ks0ERJ0azJJQc/uUrqq5v4cf8ks8Kf9gWz/APRCUAb32O2/594v++BR9jtv+feL/vgVNRQBD9jtv+feL/vgUfY7b/n3i/74FTUUAQ/Y7b/n3i/74FH2O2/594v++BU1FAEP2O2/594v++BR9jtv+feL/vgVNRQBD9jtv+feL/vgVFa2tu1nCzQREmNSSUHPFW6hs/8Ajxg/65r/ACoAPsdt/wA+8X/fAo+x23/PvF/3wKmooAh+x23/AD7xf98CipqKAORtdHt7fX7zWEeU3F5BFBIpI2BYy5UgYzn94c8+laVYelat4Y12R49Gv9J1GSNdzpazRSlR6kKTgVpHTbE9bK3P/bJf8KANDQvvaj/19D/0VHWtXIWfg7wxq9xfTat4c0m+ljnEaPc2MUjKvlodoLKcDLE49SfWrf8AwrjwR/0Jvh//AMFcH/xNAHSUVzf/AArjwR/0Jvh//wAFcH/xNH/CuPBH/Qm+H/8AwVwf/E0AdJRXN/8ACuPBH/Qm+H//AAVwf/E0f8K48Ef9Cb4f/wDBXB/8TQBe1HQWvr03Vtq+o6dI8XlSC0eMq4zwSsiMARk/MuDz16Vb0vTLXRtLg0/T4/Lt4F2oCck9yST1JOST71hy/D3wJBC8s3hDw7HHGpZ3fTIAFA6knbwKS38AeAbu3juLXwn4cmhkUMkkemwMrg9CCFwRR0A6iiub/wCFceCP+hN8P/8Agrg/+Jo/4Vx4I/6E3w//AOCuD/4mgDpKK5v/AIVx4I/6E3w//wCCuD/4mj/hXHgj/oTfD/8A4K4P/iaAOkrm7H/kqeu/9gXTf/R99R/wrjwR/wBCb4f/APBXB/8AE1z9n4B8Ht8SdZtW8J6GbePSbCRIjpsOxWaa8DMBtwCQignvtHoKAPRKK5v/AIVx4I/6E3w//wCCuD/4mj/hXHgj/oTfD/8A4K4P/iaAOkorm/8AhXHgj/oTfD//AIK4P/iaP+FceCP+hN8P/wDgrg/+JoA6SqmoWU97Ei22pXWnlTkvbLES3sfMRh+WKxv+FceCP+hN8P8A/grg/wDiaQ/DnwOASfB3h8AdSdLg/wDiaANKHQ4rPRzYaXc3FjuYu1xGVklZicszGRWDEnqSD+FReG/DyeGdMXT7a/u7q2jGIkufL/dDJJwURSck981zI0r4QswVbDwSWJwAIbTJP5VqyeAvAEVxFBL4U8NpNNnyo206ANJgZOBtycDrinqI2Nc0j+3NLlsGvrqzimVklNsI8yIwIKnejYHPUYPvVMeFIG0CDSrjUL2dbV0ktblzGstuUA2bSqBTjH8QOcnOag/4Vx4I/wChN8P/APgrg/8AiapReEfhpNqT6dD4e8KSX0YJe1SytjKuPVNuR1FJeQzTXwhp72eow38txfy6mFF1czsokYKPkA2KoXb1GAOean03w7FYak2o3N9d6jemEQLPdlMxx5ztUIqjk8k4ycDmsWXwl8M4NSTTp/D/AIUjvZMbLZ7K2EjZ6YUjJqe88B+AbCxnvLvwh4fjgt42llf+yoTtVRknATJ4Hai9tQtfQ2b3RLa/1rT9TnaTzrBZVjQEbGEihW3Ajngccis7TfBVhpWoWtxa3N55VnJK9raM6mKDzBhlX5d23uBnioLbwD4CvLSG5tvCHh94ZkWSNv7KhG5SMg4KZ6Gpf+FceCP+hN8P/wDgrg/+Jp6rQWjLE/hOxn0nWNOeW4EOrzPNOwZdylgAdvHA+Udc0aBpt1b6lrF/fpsku7kLCpIOII1Cp09TubH+12qv/wAK48D/APQm+H//AAVwf/E1l23hz4ZXctjHb+GPD7tqHm/ZcaPHiTyzh+dnGPfr2zQv6/r5DZtP4QsH0LVtKM1z5GrTyzztuXcrSEFgp24A44yDW5FGIoUjXJCKFGfaud/4Vx4I/wChN8P/APgrg/8AiaP+FceCP+hN8P8A/grg/wDiaQHSUVzf/CuPBH/Qm+H/APwVwf8AxNH/AArjwR/0Jvh//wAFcH/xNAHSUVzf/CuPBH/Qm+H/APwVwf8AxNH/AArjwR/0Jvh//wAFcH/xNAHSVzfw4/5JZ4U/7Atn/wCiEo/4Vx4I/wChN8P/APgrg/8Aiah+HVrbt8LfCrNBESdGsySUHP7lKAOqoqH7Hbf8+8X/AHwKPsdt/wA+8X/fAoAmoqH7Hbf8+8X/AHwKPsdt/wA+8X/fAoAmoqH7Hbf8+8X/AHwKPsdt/wA+8X/fAoAmoqH7Hbf8+8X/AHwKPsdt/wA+8X/fAoAmqGz/AOPGD/rmv8qPsdt/z7xf98CorW1t2s4WaCIkxqSSg54oAt0VD9jtv+feL/vgUfY7b/n3i/74FAE1FQ/Y7b/n3i/74FFAHCaJrt4utDw/renQ2V4LT7RA1td/aI5o1IRuSiMGBIyNuMEYJ5A6WsPR/DcWnalLqVzfXmqajJGIftV4U3JFnOxVjVEUZ5OFyT1JwMblNiStotibQvvaj/19D/0VHWtWToX3tR/6+h/6KjrWpDCiiigAooooA4XxrfNfXVxpF9aahHpMNuZppIbGaVbuTGVj3RoQEUjLZIycDpmtX4d3CXHw90by1kHl2kcbeZEyZIUdNwGR7jIPY10NxCtzaywOSFlQoxHUAjFV9I0yHRdGtNNtWkeG0iWJGkILEAYGcADP4U1omvT9QerT/roXKKKKQBRRRQAVzdj/AMlT13/sC6b/AOj76ukrm7H/AJKnrv8A2BdN/wDR99QB0lFFFABRRRQAUUUUAch4gY+IvFll4aj+aztgt9qfoyg/uoj/ALzDcR6LUWsWEMHxY8NXaGYy3Ed4H3zu6jEa42qSVT/gIGe9dFpOhW2kXF/cRSTT3GoT+fPNMQWJxhVGAMKoGAKpaj4VOo69bas2t6lBNab/ALOkSwbIg4AYDdESc47k+2KcdGvn+K/r7hPUt3V/fNdS2UGkXyhgVS+DweUpI4bHmb8A/wCzn2rzyeU6d4M8Paa+m31trdhqVuu5rRwnmGXEjCXGxw4LHhiTu6cHHq9ZCeH0fUorzUb+81FrdzJbRXHliOBjkbgqIuSAcAtuI7YyaI6NfL8Aeq+/8Th5ES4+Ffi+6nx9oa+vJWfoweOTEf0I2Liuw8RSPL8ONUkl+++lSs31MRzTLvwXY3c10Gu7xLK9mE91p6OnkzvxknKlxnaMhWAOOnJrZ1Gwi1PSrrT5yyQ3ULwuYyAwVlIOM8Zwal6wt5L8FYqLtNPzf4s8/wDD+v6lqfhm6ubO8bTodE00RrZmFfOmkEAYSyB1JWPugX73JJ7VahuvEQm8Mo/iKVzrcDG4zaQ4hxGJMxYXg9R8+8c5x2rcuvBGnXK2xiuLu1khsvsDywMgaeDbt2SZUg+oOAQelXV8O2iyaM4kmzo6FLf5h8wMez5uOePTHNaNptv+ut/6/wAjNJpJf10OebxDqFp4V8SLPO15eafePY2szoqvKzhPL3BQFyGkA4A4FVtU0d7HxN4I0nTrprL7PbXUQmRFdgFiTJG4EZOOpB69K1rrww4160Np5jWc+pNqd80jLgOsYWNAODjcAe/3Tz0rau9Ft73XNO1WV5RPp4lESqRtbzAA24Yz24wRUro/62/zbKe/3/i/8rGd4T1K8u5NYsdQuGu5NNv2t0uHRVaRNqsNwUBcjdjgDoOK6Gs/TdGt9Ku9RuLd5WfULj7RKHIIVtoXC4A4wo65rQo6L5D7hRRRSAKKKKACub+HH/JLPCn/AGBbP/0QldJXN/Dj/klnhT/sC2f/AKISgDpKKKKACiiigAooooAKKKKACobP/jxg/wCua/yqaobP/jxg/wCua/yoAmooooAKKKKAOJsNR8Oapez2en3ml3l1b586CCWOR4sHB3KCSOeOe9aB02xPWytz/wBsl/wrntC1a40/VrPw3qOiW2lI9oZLD7HdGeMpGQGRv3abGUMh4yDk88c9XTEZln4O8MavcX02reHNJvpY5xGj3NjFIyr5aHaCynAyxOPUn1q3/wAK48Ef9Cb4f/8ABXB/8TV7Qvvaj/19D/0VHWtSGc3/AMK48Ef9Cb4f/wDBXB/8TR/wrjwR/wBCb4f/APBXB/8AE10lFAHN/wDCuPBH/Qm+H/8AwVwf/E0f8K48Ef8AQm+H/wDwVwf/ABNdJRQBxmoeFfhjpDomq6D4SsWkBKLc2dtGWHqNwGansvA/w81K1W507wv4Zu4GJCywafbupxwcELirmr6Bf3PiO11rStQtra4t7WS38u5tWmVwzA5+WRSPuj1qx4W1t/EHh+G+ngWCffJFNGjblV0co2D6EjI+tNbA9yn/AMK48Ef9Cb4f/wDBXB/8TR/wrjwR/wBCb4f/APBXB/8AE10lFIDm/wDhXHgj/oTfD/8A4K4P/iaP+FceCP8AoTfD/wD4K4P/AImukooA5v8A4Vx4I/6E3w//AOCuD/4mufs/APg9viTrNq3hPQzbx6TYSJEdNh2KzTXgZgNuASEUE99o9BXolc3Y/wDJU9d/7Aum/wDo++oAP+FceCP+hN8P/wDgrg/+Jo/4Vx4I/wChN8P/APgrg/8Aia6SigDm/wDhXHgj/oTfD/8A4K4P/iaP+FceCP8AoTfD/wD4K4P/AImukooA5v8A4Vx4I/6E3w//AOCuD/4mj/hXHgj/AKE3w/8A+CuD/wCJrpKKAOFGh/CZroWq6X4MNwX8sRC3tN5bONuMZznjFaMngLwBFcRQS+FPDaTTZ8qNtOgDSYGTgbcnA64qhHHqfgC2tUa5tNQ0u51Ly3UW7RTRefISG3b2DAM3TaMjvUmsWEMHxY8NXaGYy3Ed4H3zu6jEa42qSVT/AICBnvTWtv66XE9H/Xcvn4c+BwCT4O8PgDqTpcH/AMTWMNK+ELMFWw8ElicACG0yT+Vdc2pXQ1P7KNFvmh3AfbA8HlYx1x5m/Hb7uawPEDHxF4ssvDUfzWdsFvtT9GUH91Ef95huI9FoWrQ3sxsvhL4ZwakmnT+H/Ckd7JjZbPZWwkbPTCkZNT3ngPwDYWM95d+EPD8cFvG0sr/2VCdqqMk4CZPA7VzUiJcfCvxfdT4+0NfXkrP0YPHJiP6EbFxXYeIpHl+HGqSS/ffSpWb6mI5qXpC/kn96uNK8kvNr7mVbbwD4CvLSG5tvCHh94ZkWSNv7KhG5SMg4KZ6Gpf8AhXHgj/oTfD//AIK4P/ia5rw/r+pan4ZurmzvG06HRNNEa2ZhXzppBAGEsgdSVj7oF+9ySe1WobrxEJvDKP4ilc63AxuM2kOIcRiTMWF4PUfPvHOcdq0lGzaX9b2IUrpNm3/wrjwP/wBCb4f/APBXB/8AE1l23hz4ZXctjHb+GPD7tqHm/ZcaPHiTyzh+dnGPfr2zSt4h1C08K+JFnna8vNPvHsbWZ0VXlZwnl7goC5DSAcAcCq2qaO9j4m8EaTp101l9ntrqITIiuwCxJkjcCMnHUg9elSlf+vK/+X3j/wCCbn/CuPBH/Qm+H/8AwVwf/E0f8K48Ef8AQm+H/wDwVwf/ABNP8J6leXcmsWOoXDXcmm37W6XDoqtIm1WG4KAuRuxwB0HFdDSGc3/wrjwR/wBCb4f/APBXB/8AE0f8K48Ef9Cb4f8A/BXB/wDE10lFAHN/8K48Ef8AQm+H/wDwVwf/ABNH/CuPBH/Qm+H/APwVwf8AxNdJRQBzf/CuPBH/AEJvh/8A8FcH/wATUPw6tbdvhb4VZoIiTo1mSSg5/cpXVVzfw4/5JZ4U/wCwLZ/+iEoA3vsdt/z7xf8AfAo+x23/AD7xf98CpqKAIfsdt/z7xf8AfAo+x23/AD7xf98CpqKAIfsdt/z7xf8AfAo+x23/AD7xf98CpqKAIfsdt/z7xf8AfAo+x23/AD7xf98CpqKAIfsdt/z7xf8AfAqK1tbdrOFmgiJMakkoOeKt1DZ/8eMH/XNf5UAH2O2/594v++BR9jtv+feL/vgVNRQBD9jtv+feL/vgUVNRQBwukeGU0/UhqF5qd9q14kPkQzXxjzDGSCwURog5IXLEFjgc1vVz+ma54T1m6+y6VqmjX9xtLeTbXEUr4HU4Uk4rWOm2J62Vuf8Atkv+FPUDQ0L72o/9fQ/9FR1rVyFn4O8MavcX02reHNJvpY5xGj3NjFIyr5aHaCynAyxOPUn1q3/wrjwR/wBCb4f/APBXB/8AE0gOkorm/wDhXHgj/oTfD/8A4K4P/iaP+FceCP8AoTfD/wD4K4P/AImgDpKK5v8A4Vx4I/6E3w//AOCuD/4mj/hXHgj/AKE3w/8A+CuD/wCJoA0NS0aa/ujNb61qWn7ovKaO1aMqwyTnDo2G56rg9PQVZ0vTLXR9MhsNPi8q3gXai5JPXJJJ5JJJJNc9e+B/h5ptq1zqPhfwzaQKQGln0+3RRngZJXFPtvAPgG8to7i08J+G54JF3JLFpsDKw9QQuCKOgdTqaK5v/hXHgj/oTfD/AP4K4P8A4mj/AIVx4I/6E3w//wCCuD/4mgDpKK5v/hXHgj/oTfD/AP4K4P8A4mj/AIVx4I/6E3w//wCCuD/4mgDpK5ux/wCSp67/ANgXTf8A0ffUf8K48Ef9Cb4f/wDBXB/8TXP2fgHwe3xJ1m1bwnoZt49JsJEiOmw7FZprwMwG3AJCKCe+0egoA9Eorm/+FceCP+hN8P8A/grg/wDiaP8AhXHgj/oTfD//AIK4P/iaAOkorm/+FceCP+hN8P8A/grg/wDiaP8AhXHgj/oTfD//AIK4P/iaAOkorm/+FceCP+hN8P8A/grg/wDiaP8AhXHgj/oTfD//AIK4P/iaAJYvCcf2i0k1DVdS1KKyk823gu3jKo4+6xKoGcjtuLevXmjUfCp1HXrbVm1vUoJrTf8AZ0iWDZEHADAboiTnHcn2xWXB4V+GNzqL6fbaD4SmvYyQ9tHZ2zSKR1BUDIx3q1J4C8ARXEUEvhTw2k02fKjbToA0mBk4G3JwOuKeoHU1m6ToVtpFxf3EUk09xqE/nzzTEFicYVRgDCqBgCs3/hXHgj/oTfD/AP4K4P8A4mskaH8Jmuharpfgw3BfyxELe03ls424xnOeMUlvoHQ2LvwXY3c10Gu7xLK9mE91p6OnkzvxknKlxnaMhWAOOnJrZ1Gwi1PSrrT5yyQ3ULwuYyAwVlIOM8Zwa5eXwl8M4NSTTp/D/hSO9kxstnsrYSNnphSMmp7zwH4BsLGe8u/CHh+OC3jaWV/7KhO1VGScBMngdqHtrsNXvpuT3XgjTrlbYxXF3ayQ2X2B5YGQNPBt27JMqQfUHAIPSrq+HbRZNGcSTZ0dClv8w+YGPZ83HPHpjmsy28A+Ary0hubbwh4feGZFkjb+yoRuUjIOCmehqX/hXHgj/oTfD/8A4K4P/iabvd3JVraEN14Yca9aG08xrOfUm1O+aRlwHWMLGgHBxuAPf7p56VtXei297rmnarK8on08SiJVI2t5gAbcMZ7cYIrL/wCFceB/+hN8P/8Agrg/+JrLtvDnwyu5bGO38MeH3bUPN+y40ePEnlnD87OMe/Xtmhdl/Wn+Q+tzqNN0a30q71G4t3lZ9QuPtEocghW2hcLgDjCjrmtCub/4Vx4I/wChN8P/APgrg/8AiaP+FceCP+hN8P8A/grg/wDiaQHSUVzf/CuPBH/Qm+H/APwVwf8AxNH/AArjwR/0Jvh//wAFcH/xNAHSUVzf/CuPBH/Qm+H/APwVwf8AxNH/AArjwR/0Jvh//wAFcH/xNAHSVzfw4/5JZ4U/7Atn/wCiEo/4Vx4I/wChN8P/APgrg/8Aiah+HVrbt8LfCrNBESdGsySUHP7lKAOqoqH7Hbf8+8X/AHwKPsdt/wA+8X/fAoAmoqH7Hbf8+8X/AHwKPsdt/wA+8X/fAoAmoqH7Hbf8+8X/AHwKPsdt/wA+8X/fAoAmoqH7Hbf8+8X/AHwKPsdt/wA+8X/fAoAmqGz/AOPGD/rmv8qPsdt/z7xf98CorW1t2s4WaCIkxqSSg54oAt0VD9jtv+feL/vgUfY7b/n3i/74FAE1FQ/Y7b/n3i/74FFAHn3hf/ic69qviKT5o/MbT7D/AGYYmw7D/elDc9wiV1dZ2haTb6Dodppdm0jQ2sQjVpWy7Y/iY8ZJPJ471o09tA8ybQvvaj/19D/0VHWtWToX3tR/6+h/6KjrWpAFFFFABRRRQBxN+upaj8UjBZzWkP8AZ+mrLC13A0yq0jsrMqB0+bCgbs8DIwd3G74W1uXXdF+0XUKQ3MM8ltOsRJQyRsVYqTztOMj06dqfqfh6HUNSh1KC7udPv4ozD9ptdm54yc7GDqykZ5HGQeh5NWtJ0q10TTYrGwRlhjycsxZmYnLMxPUkkkmmtrf1uJ73/rb/ADLlFFFIYUUUUAFc3Y/8lT13/sC6b/6Pvq6Subsf+Sp67/2BdN/9H31AHSUUUUAFFFFABRRSMoZSrcgjBoA4rxLaxafdaBDLbQWOj2upQ/Z5bZt0vmnIVWUgBFLE5YFyfQZJDtYsIYPix4au0MxluI7wPvnd1GI1xtUkqn/AQM9604PCECXFm13qeo31vYyebbWt1IjJG38JyEDttzxuZsfWnaj4VOo69bas2t6lBNab/s6RLBsiDgBgN0RJzjuT7Yqlo/v/ABVhPX8C+2pXQ1P7KNFvmh3AfbA8HlYx1x5m/Hb7ua5eOPU/AFtao1zaahpdzqXluot2imi8+QkNu3sGAZum0ZHeu4rAi8Jx/aLSTUNV1LUorKTzbeC7eMqjj7rEqgZyO24t69eaS3X9eoPVHHyIlx8K/F91Pj7Q19eSs/Rg8cmI/oRsXFdh4ikeX4capJL999KlZvqYjmmXfguxu5roNd3iWV7MJ7rT0dPJnfjJOVLjO0ZCsAcdOTWzqNhFqelXWnzlkhuoXhcxkBgrKQcZ4zg1L1hbyX4KxUXaafm/xZ5/4f1/UtT8M3VzZ3jadDommiNbMwr500ggDCWQOpKx90C/e5JParUN14iE3hlH8RSudbgY3GbSHEOIxJmLC8HqPn3jnOO1bl14I065W2MVxd2skNl9geWBkDTwbduyTKkH1BwCD0q6vh20WTRnEk2dHQpb/MPmBj2fNxzx6Y5rRtNt/wBdb/1/kZpNJL+uhzzeIdQtPCviRZ52vLzT7x7G1mdFV5WcJ5e4KAuQ0gHAHAqtqmjvY+JvBGk6ddNZfZ7a6iEyIrsAsSZI3AjJx1IPXpWtdeGHGvWhtPMazn1JtTvmkZcB1jCxoBwcbgD3+6eelbV3otve65p2qyvKJ9PEoiVSNreYAG3DGe3GCKldH/W3+bZT3+/8X/lYzvCepXl3JrFjqFw13Jpt+1ulw6KrSJtVhuCgLkbscAdBxXQ1n6bo1vpV3qNxbvKz6hcfaJQ5BCttC4XAHGFHXNaFHRfIfcKKKKQBRRRQAVzfw4/5JZ4U/wCwLZ/+iErpK5v4cf8AJLPCn/YFs/8A0QlAHSUUUUAFFFFABRRRQAUUUUAFQ2f/AB4wf9c1/lU1Q2f/AB4wf9c1/lQBNRRRQAUUUUAcXpV94f12KSTRrnTNRSM7Xa1kjlCn0JXOKvHTbE9bK3P/AGyX/CuP0c3yfEeGTxDZ22n3txpLRWyWMnmxTKkil9zkK25dy4XbgBmwzZIHdU+l/wCtxGZZ+DvDGr3F9Nq3hzSb6WOcRo9zYxSMq+Wh2gspwMsTj1J9at/8K48Ef9Cb4f8A/BXB/wDE1e0L72o/9fQ/9FR1rUhnN/8ACuPBH/Qm+H//AAVwf/E0f8K48Ef9Cb4f/wDBXB/8TXSUUAc3/wAK48Ef9Cb4f/8ABXB/8TR/wrjwR/0Jvh//AMFcH/xNdJRQBxV/4Z+F2lXAg1TRPCFlMV3CO4tLWNiPXDAHHBqxYeCvh1qlv9o0zw14XvIdxXzLewt5FyO2QpGa1vFGtjw/4duL5U82fAjtoR1lmY4RR9SR+GaTwvozaFoENtO/m3chM93N3lmc7nb8zgewFC2f9f1/wwMp/wDCuPBH/Qm+H/8AwVwf/E0f8K48Ef8AQm+H/wDwVwf/ABNdJRQBzf8AwrjwR/0Jvh//AMFcH/xNH/CuPBH/AEJvh/8A8FcH/wATXSUUAc3/AMK48Ef9Cb4f/wDBXB/8TXP2fgHwe3xJ1m1bwnoZt49JsJEiOmw7FZprwMwG3AJCKCe+0egr0Subsf8Akqeu/wDYF03/ANH31AB/wrjwR/0Jvh//AMFcH/xNH/CuPBH/AEJvh/8A8FcH/wATXSUUAc3/AMK48Ef9Cb4f/wDBXB/8TR/wrjwR/wBCb4f/APBXB/8AE10lFAHN/wDCuPBH/Qm+H/8AwVwf/E0f8K48Ef8AQm+H/wDwVwf/ABNdJRQBy3/CBeAPtf2X/hFPDf2jZ5nk/wBnQb9mcbtu3OM8Zok8BeAIriKCXwp4bSabPlRtp0AaTAycDbk4HXFVLGwhsfjHd+QZiZtGEjmWd5TkznpvJwPYYA7CjWLCGD4seGrtDMZbiO8D753dRiNcbVJKp/wEDPemtbed/wAL/wCQno2vT9DQ/wCFceCP+hN8P/8Agrg/+JqhB4V+GNzqL6fbaD4SmvYyQ9tHZ2zSKR1BUDIx3ro21G6Gp/ZRot80O4D7YHg8rGOuPM347fdzXM+JbWLT7rQIZbaCx0e11KH7PLbNul805CqykAIpYnLAuT6DJIFq15jezJZfCXwzg1JNOn8P+FI72TGy2eythI2emFIyanvPAfgGwsZ7y78IeH44LeNpZX/sqE7VUZJwEyeB2rmpES4+Ffi+6nx9oa+vJWfoweOTEf0I2Liuw8RSPL8ONUkl+++lSs31MRzUvSF/JP71caV5JebX3Mq23gHwFeWkNzbeEPD7wzIskbf2VCNykZBwUz0NS/8ACuPBH/Qm+H//AAVwf/E1zXh/X9S1PwzdXNneNp0OiaaI1szCvnTSCAMJZA6krH3QL97kk9qtQ3XiITeGUfxFK51uBjcZtIcQ4jEmYsLweo+feOc47VpKNm0v63sQpXSbNv8A4Vx4H/6E3w//AOCuD/4msu28OfDK7lsY7fwx4fdtQ837LjR48SeWcPzs4x79e2aVvEOoWnhXxIs87Xl5p949jazOiq8rOE8vcFAXIaQDgDgVW1TR3sfE3gjSdOumsvs9tdRCZEV2AWJMkbgRk46kHr0qUr/15X/y+8f/AATc/wCFceCP+hN8P/8Agrg/+Jo/4Vx4I/6E3w//AOCuD/4mn+E9SvLuTWLHULhruTTb9rdLh0VWkTarDcFAXI3Y4A6DiuhpDOb/AOFceCP+hN8P/wDgrg/+Jo/4Vx4I/wChN8P/APgrg/8Aia6SigDm/wDhXHgj/oTfD/8A4K4P/iaP+FceCP8AoTfD/wD4K4P/AImukooA5v8A4Vx4I/6E3w//AOCuD/4mofh1a27fC3wqzQREnRrMklBz+5Suqrm/hx/ySzwp/wBgWz/9EJQBvfY7b/n3i/74FH2O2/594v8AvgVNRQBD9jtv+feL/vgUfY7b/n3i/wC+BU1FAEP2O2/594v++BR9jtv+feL/AL4FTUUAQ/Y7b/n3i/74FH2O2/594v8AvgVNRQBD9jtv+feL/vgVFa2tu1nCzQREmNSSUHPFW6hs/wDjxg/65r/KgA+x23/PvF/3wKPsdt/z7xf98CpqKAIfsdt/z7xf98CipqKAOE0rwvHZauNVvtSvtWvkhMEM16Yx5CE5YKsaIoJIGWIJOAM44rfrI0q80DXIXl0e503UY422u9rJHKFOM4JXODV06bYnrZW5/wC2S/4UxGhoX3tR/wCvof8AoqOtauQs/B3hjV7i+m1bw5pN9LHOI0e5sYpGVfLQ7QWU4GWJx6k+tW/+FceCP+hN8P8A/grg/wDiaQzpKK5v/hXHgj/oTfD/AP4K4P8A4mj/AIVx4I/6E3w//wCCuD/4mgDpKK5v/hXHgj/oTfD/AP4K4P8A4mj/AIVx4I/6E3w//wCCuD/4mgDS1HQrbVNU069u5Jm/s6RpYoAR5bSEYDsMZJGTjnjNaVcfqHg74baTGkmq+HfCtijnajXNjbRhj6AsozVmL4e+BJoUlh8IeHZI3UMjppkBDA8gg7eRR0DqdPRXN/8ACuPBH/Qm+H//AAVwf/E0f8K48Ef9Cb4f/wDBXB/8TQB0lFc3/wAK48Ef9Cb4f/8ABXB/8TR/wrjwR/0Jvh//AMFcH/xNAHSVzdj/AMlT13/sC6b/AOj76j/hXHgj/oTfD/8A4K4P/ia5+z8A+D2+JOs2reE9DNvHpNhIkR02HYrNNeBmA24BIRQT32j0FAHolFc3/wAK48Ef9Cb4f/8ABXB/8TR/wrjwR/0Jvh//AMFcH/xNAHSUVzf/AArjwR/0Jvh//wAFcH/xNH/CuPBH/Qm+H/8AwVwf/E0AdJRXN/8ACuPBH/Qm+H//AAVwf/E0f8K48Ef9Cb4f/wDBXB/8TQBKnhUp4mOuHW9Sa5MfklCtvsMW/d5ePKzjJ653e9Go+FTqOvW2rNrepQTWm/7OkSwbIg4AYDdESc47k+2Ki/4Vx4I/6E3w/wD+CuD/AOJo/wCFceCP+hN8P/8Agrg/+Jo2A6NlDKVbkEYNc/B4QgS4s2u9T1G+t7GTzba1upEZI2/hOQgdtueNzNj61Xn8BeALby/tPhTw3D5riOPzNOgXe56KMryT6UXPgLwBZ27T3fhTw3BCuN0kunQKoycDJK46mhdw8ie78F2N3NdBru8SyvZhPdaejp5M78ZJypcZ2jIVgDjpya2dRsItT0q60+cskN1C8LmMgMFZSDjPGcGsT/hXHgj/AKE3w/8A+CuD/wCJqpYeDPh5qi3BsfCfh+UW0720v/EpiXbIv3l5QZx6jijdWDZ3Ll14I065W2MVxd2skNl9geWBkDTwbduyTKkH1BwCD0q6vh20WTRnEk2dHQpb/MPmBj2fNxzx6Y5qj/wrjwR/0Jvh/wD8FcH/AMTR/wAK48Ef9Cb4f/8ABXB/8TTuxWRDdeGHGvWhtPMazn1JtTvmkZcB1jCxoBwcbgD3+6eelbV3otve65p2qyvKJ9PEoiVSNreYAG3DGe3GCK5e98OfDLTvtv2zwx4fj+weV9pxo8beX5hwnRDnPt071qf8K48Ef9Cb4f8A/BXB/wDE0dP67W/IfU1NN0a30q71G4t3lZ9QuPtEocghW2hcLgDjCjrmtCub/wCFceCP+hN8P/8Agrg/+Jo/4Vx4I/6E3w//AOCuD/4mkB0lFc3/AMK48Ef9Cb4f/wDBXB/8TR/wrjwR/wBCb4f/APBXB/8AE0AdJRXN/wDCuPBH/Qm+H/8AwVwf/E0f8K48Ef8AQm+H/wDwVwf/ABNAHSVzfw4/5JZ4U/7Atn/6ISj/AIVx4I/6E3w//wCCuD/4mofh1a27fC3wqzQREnRrMklBz+5SgDqqKh+x23/PvF/3wKPsdt/z7xf98CgCaiofsdt/z7xf98Cj7Hbf8+8X/fAoAmoqH7Hbf8+8X/fAo+x23/PvF/3wKAJqKh+x23/PvF/3wKPsdt/z7xf98CgCaobP/jxg/wCua/yo+x23/PvF/wB8CorW1t2s4WaCIkxqSSg54oAt0VD9jtv+feL/AL4FH2O2/wCfeL/vgUATUVD9jtv+feL/AL4FFAHldjeX118WbCSTSJ9JWTR51mjnkiaSUJLHsJEbMu0F2C/Nnl+AOT31YujeHYdLvLi/mvLrUtQuFWOS8vCm/wAtfuooRVVVBJOAoyTk5rap9Ev63bF1b/raxNoX3tR/6+h/6KjrWrJ0L72o/wDX0P8A0VHWtSGFFFFABRRRQBw+sy3sfxL+06BbRale22klbi0nk8pVQuSuyTnDsR0K4IHJHFaHw6NuPBkEdt5imOaZZopI9hhk8xi0e3JACk4GD0xWhqHhuG81ddUtb2702/EPkPPaFMyR5yFZXVlODyDjPPWrWj6Ra6HpsdjYq3lqSzNIxZ5HY5Z2J6kkkmmvht/W7f8AXmJ73/raxeooopDCiiigArm7H/kqeu/9gXTf/R99XSVzdj/yVPXf+wLpv/o++oA6SiiigAooooAKKKKAIbuZ7ezmmit5Ll40LLDGQGkIHQZIGT7muN0jVL7xdqDRXetx6Sbdg76PZKyXWBsb968yq+3nHyIoIb7xruKo6loum6x5J1OyhuWt3Dwu6/PEwIOVbqvKjoecU1o7g9jmfHVhD/bHhi+JmMw1m3jAM7+WBhz/AKvO3PvjPvR8VLCG48FT3Upm8y3khMYWd1TmZB8yA7W9twOO1bGu+GBr11azS6vf2q2kyzwxW4h2rKucP88bEnk8E49qNe8MjxDpSafeatfxQbVEvkiEGcqQwZiYzg5UH5do9qIu1vW/5f5Cau/l/mbleW+HNXvJvEWp+HNPuG01rjWby4kvniBLqrjMUO4FWfuc52rzg9vTLSCS2tUimuprt16zTBAzc99iqv5AVhS+CNMlsLm2Mtyrzag2opcK6iW3mY5zGdvHpyDwTnNC0lf+t0D1jb+tmc3eav4hi0PxFrMWuSKdK1F4be2NtEY3RXXiQ7dxyGx8pUiugsbvUtP8Zx6XfalJfwXOnPdEyxRp5Lo6qQuxR8pD9GLEYHJ5qwfB9k+g6jpUtzdSRalO088rMgfexUnGFAH3R2qLxRoM95BcX2kmU6obF7CEB1CKsjLuc5xyuM9e3Qmja3p+Nv8AMN/v/X/I5LWQ138J9a1krsl1e+S5QsOkfnxpFkf7iqfxNdTaXepab44g0e81OXUYLuwe4zNDGhikR1BC7FHykN0bcRgc9a0dR8N2WpeGF0KVpYrRUiQGEgMBGVK4yCP4R2qeXRreXxFb6yzyi4t7d7dVBGwqxBJIxnPyjvT0Tt01+61kGrXn/wAHU0KKKKkYUUUUAFFFFABXN/Dj/klnhT/sC2f/AKISuW+I3xGl0e4k0fQpLi11O3mQyzNDG0bRmPdgbs8/MvYdD+PU/Dj/AJJZ4U/7Atn/AOiEradGcIRlLqSpJtpdDpKKKKxKCiiigAooooAKKKKACobP/jxg/wCua/yqaobP/jxg/wCua/yoAmooooAKKKKAON1G70HRrZbjWp9OsIWbYsl28cSlsZwC2Bng8VaSx06eJZI7W1kjcBlZY1IYHoQe9c7bj7V8Wr0XSBhZ6PD9m3c7fNlk8wge/loD9Kk+HgEXhy6tYgFt7TVLy3t1A4WJZ3CqPYdB9KFqv672B6fh+Kua9n4O8MavcX02reHNJvpY5xGj3NjFIyr5aHaCynAyxOPUn1q3/wAK48Ef9Cb4f/8ABXB/8TV7Qvvaj/19D/0VHWtQBzf/AArjwR/0Jvh//wAFcH/xNH/CuPBH/Qm+H/8AwVwf/E10lFAHN/8ACuPBH/Qm+H//AAVwf/E0f8K48Ef9Cb4f/wDBXB/8TXSUUAc3/wAK48Ef9Cb4f/8ABXB/8TR/wrjwR/0Jvh//AMFcH/xNdJRQBzf/AArjwR/0Jvh//wAFcH/xNH/CuPBH/Qm+H/8AwVwf/E10lFAHN/8ACuPBH/Qm+H//AAVwf/E0f8K48Ef9Cb4f/wDBXB/8TXSUUAc3/wAK48Ef9Cb4f/8ABXB/8TUK/DrwT9skX/hDtAwI0IH9lw+rf7NdVUK/8f0v/XNP5tQBg/8ACuPBH/Qm+H//AAVwf/E0f8K48Ef9Cb4f/wDBXB/8TXSUUAc3/wAK48Ef9Cb4f/8ABXB/8TR/wrjwR/0Jvh//AMFcH/xNdJRQBzf/AArjwR/0Jvh//wAFcH/xNH/CuPBH/Qm+H/8AwVwf/E10lFAHN/8ACuPBH/Qm+H//AAVwf/E0f8K48Ef9Cb4f/wDBXB/8TXSUUAc3/wAK48Ef9Cb4f/8ABXB/8TR/wrjwR/0Jvh//AMFcH/xNdJRQBzf/AArjwR/0Jvh//wAFcH/xNH/CuPBH/Qm+H/8AwVwf/E10lFAHN/8ACuPBH/Qm+H//AAVwf/E0f8K48Ef9Cb4f/wDBXB/8TXSUUAc3/wAK48Ef9Cb4f/8ABXB/8TR/wrjwR/0Jvh//AMFcH/xNdJRQBzf/AArjwR/0Jvh//wAFcH/xNH/CuPBH/Qm+H/8AwVwf/E10lFAHN/8ACuPBH/Qm+H//AAVwf/E0f8K48Ef9Cb4f/wDBXB/8TXSUUAc3/wAK48Ef9Cb4f/8ABXB/8TR/wrjwR/0Jvh//AMFcH/xNdJRQBzf/AArjwR/0Jvh//wAFcH/xNaum6bY2+lWkNvZW8UUcKIkaRKqqoUAAADgAdqv1DZ/8eMH/AFzX+VAB9jtv+feL/vgUfY7b/n3i/wC+BU1FAEP2O2/594v++BR9jtv+feL/AL4FTUUAQ/Y7b/n3i/74FH2O2/594v8AvgVNRQBD9jtv+feL/vgUfY7b/n3i/wC+BU1FAEP2O2/594v++BUVra27WcLNBESY1JJQc8VbqGz/AOPGD/rmv8qAD7Hbf8+8X/fAo+x23/PvF/3wKmooAh+x23/PvF/3wKKmooA4jVPDianfRX9tqN7pd9HGYTc2Rj3PGTnYwkR1IzyDjI5wRk5v6Vpdroulw6fYIUghGF3MWZiTksSeSSSSSepNMnj02ztZLm9S1ggiUvJLMFVUUdSSeAKl/s6wYZ+x25B/6ZL/AIUbIDQ0L72o/wDX0P8A0VHWtWHoNlar9vVbaEKt0AAIxgfuoz/Wtb7Hbf8APvF/3wKAJqKh+x23/PvF/wB8Cj7Hbf8APvF/3wKAJqKh+x23/PvF/wB8Cj7Hbf8APvF/3wKAJqKh+x23/PvF/wB8Cj7Hbf8APvF/3wKAJqKh+x23/PvF/wB8Cj7Hbf8APvF/3wKAJqKh+x23/PvF/wB8Cj7Hbf8APvF/3wKAJqhX/j+l/wCuafzaj7Hbf8+8X/fAqJbW3+2SL5EWBGhA2D1agC3RUP2O2/594v8AvgUfY7b/AJ94v++BQBNRUP2O2/594v8AvgUfY7b/AJ94v++BQBNRUP2O2/594v8AvgUfY7b/AJ94v++BQBNRUP2O2/594v8AvgUfY7b/AJ94v++BQBNRUP2O2/594v8AvgUfY7b/AJ94v++BQBNRUP2O2/594v8AvgUfY7b/AJ94v++BQBNRUP2O2/594v8AvgUfY7b/AJ94v++BQBNRUP2O2/594v8AvgUfY7b/AJ94v++BQBNRUP2O2/594v8AvgUfY7b/AJ94v++BQBNRUP2O2/594v8AvgUfY7b/AJ94v++BQBNRUP2O2/594v8AvgUfY7b/AJ94v++BQBNUNn/x4wf9c1/lR9jtv+feL/vgVFa2tu1nCzQREmNSSUHPFAFuiofsdt/z7xf98Cj7Hbf8+8X/AHwKAJqKh+x23/PvF/3wKPsdt/z7xf8AfAoAmoqH7Hbf8+8X/fAo+x23/PvF/wB8CgCaiofsdt/z7xf98Cj7Hbf8+8X/AHwKAJqhs/8Ajxg/65r/ACo+x23/AD7xf98CorW1t2s4WaCIkxqSSg54oAt0VD9jtv8An3i/74FH2O2/594v++BQBNRUP2O2/wCfeL/vgUUAeY/FTRNN1HwBq99f2kdxcWOnztbNLlhExX7wU8bvlGGxkc4Iya7WH/Up/uj+VUdZ0iDX9BvdJvHkSC9haGRoiAwVhg4JBGfwrQVdqhR0AxR0B62+f6E+hfe1H/r6H/oqOtasnQvvaj/19D/0VHWtQAUUUUAFFFFABRRRQAUUUUAFFFFABUK/8f0v/XNP5tU1Qr/x/S/9c0/m1AE1FFFABRRRQAUUUUAFFFFABRRRQAUUUUAFFFFABRRRQAUUUUAFFFFABRRRQAVDZ/8AHjB/1zX+VTVDZ/8AHjB/1zX+VAE1FFFABRRRQAUUUUAFFFFABUNn/wAeMH/XNf5VNUNn/wAeMH/XNf5UATUUUUAFFFFAHE6nqPhzRFiOuXml6cJs+WbyWOLfjGcbiM4yPzq+thp8qK6Wls6sMqwjUgj1oooWquD0aLeg2Vqv29VtoQq3QAAjGB+6jP8AWtb7Hbf8+8X/AHwKKKAD7Hbf8+8X/fAo+x23/PvF/wB8CiigA+x23/PvF/3wKPsdt/z7xf8AfAoooAPsdt/z7xf98Cj7Hbf8+8X/AHwKKKAD7Hbf8+8X/fAo+x23/PvF/wB8CiigA+x23/PvF/3wKPsdt/z7xf8AfAoooAPsdt/z7xf98Coltbf7ZIvkRYEaEDYPVqKKAJfsdt/z7xf98Cj7Hbf8+8X/AHwKKKAD7Hbf8+8X/fAo+x23/PvF/wB8CiigA+x23/PvF/3wKPsdt/z7xf8AfAoooAPsdt/z7xf98Cj7Hbf8+8X/AHwKKKAD7Hbf8+8X/fAo+x23/PvF/wB8CiigA+x23/PvF/3wKPsdt/z7xf8AfAoooAPsdt/z7xf98Cj7Hbf8+8X/AHwKKKAD7Hbf8+8X/fAo+x23/PvF/wB8CiigA+x23/PvF/3wKPsdt/z7xf8AfAoooAPsdt/z7xf98Cj7Hbf8+8X/AHwKKKAD7Hbf8+8X/fAo+x23/PvF/wB8CiigA+x23/PvF/3wKitbW3azhZoIiTGpJKDniiigCX7Hbf8APvF/3wKPsdt/z7xf98CiigA+x23/AD7xf98Cj7Hbf8+8X/fAoooAPsdt/wA+8X/fAo+x23/PvF/3wKKKAD7Hbf8APvF/3wKPsdt/z7xf98CiigA+x23/AD7xf98CorW1t2s4WaCIkxqSSg54oooAl+x23/PvF/3wKPsdt/z7xf8AfAoooAPsdt/z7xf98CiiigD/2Q==)"
      ]
    },
    {
      "cell_type": "code",
      "metadata": {
        "colab": {
          "base_uri": "https://localhost:8080/"
        },
        "id": "xV4DyGMdJ6C1",
        "outputId": "fc8b2c4d-250e-4a77-c182-ab257f9f1e1b"
      },
      "source": [
        "len(geo_json_data['Func_Class'].unique())"
      ],
      "execution_count": null,
      "outputs": [
        {
          "output_type": "execute_result",
          "data": {
            "text/plain": [
              "3"
            ]
          },
          "metadata": {
            "tags": []
          },
          "execution_count": 50
        }
      ]
    },
    {
      "cell_type": "code",
      "metadata": {
        "colab": {
          "base_uri": "https://localhost:8080/",
          "height": 197
        },
        "id": "rHKSc6oMcnm2",
        "outputId": "ea6b629c-6c6b-47f7-c87e-ce511810ca83"
      },
      "source": [
        "Geo_data = geo_json_data[['linkid','geometry']]\n",
        "Geo_data.head()"
      ],
      "execution_count": null,
      "outputs": [
        {
          "output_type": "execute_result",
          "data": {
            "text/html": [
              "<div>\n",
              "<style scoped>\n",
              "    .dataframe tbody tr th:only-of-type {\n",
              "        vertical-align: middle;\n",
              "    }\n",
              "\n",
              "    .dataframe tbody tr th {\n",
              "        vertical-align: top;\n",
              "    }\n",
              "\n",
              "    .dataframe thead th {\n",
              "        text-align: right;\n",
              "    }\n",
              "</style>\n",
              "<table border=\"1\" class=\"dataframe\">\n",
              "  <thead>\n",
              "    <tr style=\"text-align: right;\">\n",
              "      <th></th>\n",
              "      <th>linkid</th>\n",
              "      <th>geometry</th>\n",
              "    </tr>\n",
              "  </thead>\n",
              "  <tbody>\n",
              "    <tr>\n",
              "      <th>0</th>\n",
              "      <td>80216819</td>\n",
              "      <td>MULTILINESTRING ((-9.16402 38.77030, -9.16389 ...</td>\n",
              "    </tr>\n",
              "    <tr>\n",
              "      <th>1</th>\n",
              "      <td>80216858</td>\n",
              "      <td>MULTILINESTRING ((-9.16645 38.74274, -9.16638 ...</td>\n",
              "    </tr>\n",
              "    <tr>\n",
              "      <th>2</th>\n",
              "      <td>80216859</td>\n",
              "      <td>MULTILINESTRING ((-9.16645 38.74274, -9.16637 ...</td>\n",
              "    </tr>\n",
              "    <tr>\n",
              "      <th>3</th>\n",
              "      <td>80216860</td>\n",
              "      <td>MULTILINESTRING ((-9.16588 38.74370, -9.16568 ...</td>\n",
              "    </tr>\n",
              "    <tr>\n",
              "      <th>4</th>\n",
              "      <td>80216867</td>\n",
              "      <td>MULTILINESTRING ((-9.16472 38.74478, -9.16487 ...</td>\n",
              "    </tr>\n",
              "  </tbody>\n",
              "</table>\n",
              "</div>"
            ],
            "text/plain": [
              "     linkid                                           geometry\n",
              "0  80216819  MULTILINESTRING ((-9.16402 38.77030, -9.16389 ...\n",
              "1  80216858  MULTILINESTRING ((-9.16645 38.74274, -9.16638 ...\n",
              "2  80216859  MULTILINESTRING ((-9.16645 38.74274, -9.16637 ...\n",
              "3  80216860  MULTILINESTRING ((-9.16588 38.74370, -9.16568 ...\n",
              "4  80216867  MULTILINESTRING ((-9.16472 38.74478, -9.16487 ..."
            ]
          },
          "metadata": {
            "tags": []
          },
          "execution_count": 52
        }
      ]
    },
    {
      "cell_type": "code",
      "metadata": {
        "colab": {
          "base_uri": "https://localhost:8080/",
          "height": 197
        },
        "id": "KRJHv7BqdEyT",
        "outputId": "12cd6cce-112b-429f-85fd-65379eea644e"
      },
      "source": [
        "road_data = geo_json_data.drop(columns= ['geometry'])\n",
        "road_data.head()"
      ],
      "execution_count": null,
      "outputs": [
        {
          "output_type": "execute_result",
          "data": {
            "text/html": [
              "<div>\n",
              "<style scoped>\n",
              "    .dataframe tbody tr th:only-of-type {\n",
              "        vertical-align: middle;\n",
              "    }\n",
              "\n",
              "    .dataframe tbody tr th {\n",
              "        vertical-align: top;\n",
              "    }\n",
              "\n",
              "    .dataframe thead th {\n",
              "        text-align: right;\n",
              "    }\n",
              "</style>\n",
              "<table border=\"1\" class=\"dataframe\">\n",
              "  <thead>\n",
              "    <tr style=\"text-align: right;\">\n",
              "      <th></th>\n",
              "      <th>linkid</th>\n",
              "      <th>Daily_Aver</th>\n",
              "      <th>Average_Ve</th>\n",
              "      <th>Median_of_</th>\n",
              "      <th>First_Quar</th>\n",
              "      <th>Third_Quar</th>\n",
              "      <th>Func_Class</th>\n",
              "      <th>Speed_Cat</th>\n",
              "    </tr>\n",
              "  </thead>\n",
              "  <tbody>\n",
              "    <tr>\n",
              "      <th>0</th>\n",
              "      <td>80216819</td>\n",
              "      <td>6224.778569</td>\n",
              "      <td>45.208716</td>\n",
              "      <td>44.464286</td>\n",
              "      <td>28.000000</td>\n",
              "      <td>59.00</td>\n",
              "      <td>2</td>\n",
              "      <td>6</td>\n",
              "    </tr>\n",
              "    <tr>\n",
              "      <th>1</th>\n",
              "      <td>80216858</td>\n",
              "      <td>2236.054168</td>\n",
              "      <td>79.563308</td>\n",
              "      <td>82.750000</td>\n",
              "      <td>71.750000</td>\n",
              "      <td>93.25</td>\n",
              "      <td>2</td>\n",
              "      <td>4</td>\n",
              "    </tr>\n",
              "    <tr>\n",
              "      <th>2</th>\n",
              "      <td>80216859</td>\n",
              "      <td>2138.725039</td>\n",
              "      <td>65.955069</td>\n",
              "      <td>67.333333</td>\n",
              "      <td>61.000000</td>\n",
              "      <td>75.00</td>\n",
              "      <td>3</td>\n",
              "      <td>6</td>\n",
              "    </tr>\n",
              "    <tr>\n",
              "      <th>3</th>\n",
              "      <td>80216860</td>\n",
              "      <td>2201.335041</td>\n",
              "      <td>47.533911</td>\n",
              "      <td>44.000000</td>\n",
              "      <td>26.900000</td>\n",
              "      <td>74.00</td>\n",
              "      <td>3</td>\n",
              "      <td>6</td>\n",
              "    </tr>\n",
              "    <tr>\n",
              "      <th>4</th>\n",
              "      <td>80216867</td>\n",
              "      <td>2102.610278</td>\n",
              "      <td>51.375291</td>\n",
              "      <td>53.250000</td>\n",
              "      <td>45.333333</td>\n",
              "      <td>59.00</td>\n",
              "      <td>3</td>\n",
              "      <td>6</td>\n",
              "    </tr>\n",
              "  </tbody>\n",
              "</table>\n",
              "</div>"
            ],
            "text/plain": [
              "     linkid   Daily_Aver  Average_Ve  ...  Third_Quar  Func_Class  Speed_Cat\n",
              "0  80216819  6224.778569   45.208716  ...       59.00           2          6\n",
              "1  80216858  2236.054168   79.563308  ...       93.25           2          4\n",
              "2  80216859  2138.725039   65.955069  ...       75.00           3          6\n",
              "3  80216860  2201.335041   47.533911  ...       74.00           3          6\n",
              "4  80216867  2102.610278   51.375291  ...       59.00           3          6\n",
              "\n",
              "[5 rows x 8 columns]"
            ]
          },
          "metadata": {
            "tags": []
          },
          "execution_count": 68
        }
      ]
    },
    {
      "cell_type": "code",
      "metadata": {
        "id": "jcydgRsxdcIP"
      },
      "source": [
        "import pandas as pd\n",
        "import numpy as np\n",
        "import matplotlib.pyplot as plt\n",
        "from sklearn.cluster import KMeans"
      ],
      "execution_count": null,
      "outputs": []
    },
    {
      "cell_type": "code",
      "metadata": {
        "id": "-m4C_aGgeE65"
      },
      "source": [
        "X = road_data.drop(columns= ['linkid'])"
      ],
      "execution_count": null,
      "outputs": []
    },
    {
      "cell_type": "code",
      "metadata": {
        "colab": {
          "base_uri": "https://localhost:8080/",
          "height": 404
        },
        "id": "EMpr9Q0vd3eY",
        "outputId": "c5a86a59-402a-46b4-e50e-0a06ee874bd1"
      },
      "source": [
        "clustering_score = []\n",
        "for i in range(1, 11):\n",
        "    kmeans = KMeans(n_clusters = i, init = 'random', random_state = 42)\n",
        "    kmeans.fit(X)\n",
        "    clustering_score.append(kmeans.inertia_) # inertia_ = Sum of squared distances of samples to their closest cluster center.\n",
        "    \n",
        "\n",
        "plt.figure(figsize=(10,6))\n",
        "plt.plot(range(1, 11), clustering_score)\n",
        "plt.scatter(5,clustering_score[4], s = 200, c = 'red', marker='*')\n",
        "plt.title('The Elbow Method')\n",
        "plt.xlabel('No. of Clusters')\n",
        "plt.ylabel('Clustering Score')\n",
        "plt.show()"
      ],
      "execution_count": null,
      "outputs": [
        {
          "output_type": "display_data",
          "data": {
            "image/png": "[encoded data removed]",
            "text/plain": [
              "<Figure size 720x432 with 1 Axes>"
            ]
          },
          "metadata": {
            "tags": [],
            "needs_background": "light"
          }
        }
      ]
    },
    {
      "cell_type": "code",
      "metadata": {
        "id": "SntDJRy1fHsl"
      },
      "source": [
        "kmeans= KMeans(n_clusters = 5, random_state = 42)\n",
        "\n",
        "# Compute k-means clustering\n",
        "kmeans.fit(X)\n",
        "\n",
        "# Compute cluster centers and predict cluster index for each sample.\n",
        "pred = kmeans.predict(X)"
      ],
      "execution_count": null,
      "outputs": []
    },
    {
      "cell_type": "code",
      "metadata": {
        "colab": {
          "base_uri": "https://localhost:8080/",
          "height": 197
        },
        "id": "isDWQwnbePPW",
        "outputId": "36e6540a-7eee-48f6-86be-26a021ee784b"
      },
      "source": [
        "road_data['cluster'] = pd.DataFrame(pred, columns=['cluster'])\n",
        "road_data.sample(5)"
      ],
      "execution_count": null,
      "outputs": [
        {
          "output_type": "execute_result",
          "data": {
            "text/html": [
              "<div>\n",
              "<style scoped>\n",
              "    .dataframe tbody tr th:only-of-type {\n",
              "        vertical-align: middle;\n",
              "    }\n",
              "\n",
              "    .dataframe tbody tr th {\n",
              "        vertical-align: top;\n",
              "    }\n",
              "\n",
              "    .dataframe thead th {\n",
              "        text-align: right;\n",
              "    }\n",
              "</style>\n",
              "<table border=\"1\" class=\"dataframe\">\n",
              "  <thead>\n",
              "    <tr style=\"text-align: right;\">\n",
              "      <th></th>\n",
              "      <th>linkid</th>\n",
              "      <th>Daily_Aver</th>\n",
              "      <th>Average_Ve</th>\n",
              "      <th>Median_of_</th>\n",
              "      <th>First_Quar</th>\n",
              "      <th>Third_Quar</th>\n",
              "      <th>Func_Class</th>\n",
              "      <th>Speed_Cat</th>\n",
              "      <th>cluster</th>\n",
              "    </tr>\n",
              "  </thead>\n",
              "  <tbody>\n",
              "    <tr>\n",
              "      <th>6053</th>\n",
              "      <td>810245749</td>\n",
              "      <td>2064.533642</td>\n",
              "      <td>53.153922</td>\n",
              "      <td>43.000000</td>\n",
              "      <td>29.0</td>\n",
              "      <td>66.000000</td>\n",
              "      <td>2</td>\n",
              "      <td>6</td>\n",
              "      <td>4</td>\n",
              "    </tr>\n",
              "    <tr>\n",
              "      <th>30392</th>\n",
              "      <td>1167467571</td>\n",
              "      <td>2998.231196</td>\n",
              "      <td>56.678571</td>\n",
              "      <td>57.142857</td>\n",
              "      <td>44.0</td>\n",
              "      <td>72.285714</td>\n",
              "      <td>3</td>\n",
              "      <td>6</td>\n",
              "      <td>0</td>\n",
              "    </tr>\n",
              "    <tr>\n",
              "      <th>14806</th>\n",
              "      <td>1179831415</td>\n",
              "      <td>340.272478</td>\n",
              "      <td>80.000000</td>\n",
              "      <td>80.000000</td>\n",
              "      <td>41.0</td>\n",
              "      <td>119.000000</td>\n",
              "      <td>3</td>\n",
              "      <td>6</td>\n",
              "      <td>4</td>\n",
              "    </tr>\n",
              "    <tr>\n",
              "      <th>32434</th>\n",
              "      <td>1218234637</td>\n",
              "      <td>1908.587769</td>\n",
              "      <td>50.882353</td>\n",
              "      <td>51.000000</td>\n",
              "      <td>46.0</td>\n",
              "      <td>57.000000</td>\n",
              "      <td>3</td>\n",
              "      <td>6</td>\n",
              "      <td>4</td>\n",
              "    </tr>\n",
              "    <tr>\n",
              "      <th>11381</th>\n",
              "      <td>916000220</td>\n",
              "      <td>1605.362981</td>\n",
              "      <td>43.655964</td>\n",
              "      <td>43.500000</td>\n",
              "      <td>38.4</td>\n",
              "      <td>49.666667</td>\n",
              "      <td>3</td>\n",
              "      <td>5</td>\n",
              "      <td>4</td>\n",
              "    </tr>\n",
              "  </tbody>\n",
              "</table>\n",
              "</div>"
            ],
            "text/plain": [
              "           linkid   Daily_Aver  Average_Ve  ...  Func_Class  Speed_Cat  cluster\n",
              "6053    810245749  2064.533642   53.153922  ...           2          6        4\n",
              "30392  1167467571  2998.231196   56.678571  ...           3          6        0\n",
              "14806  1179831415   340.272478   80.000000  ...           3          6        4\n",
              "32434  1218234637  1908.587769   50.882353  ...           3          6        4\n",
              "11381   916000220  1605.362981   43.655964  ...           3          5        4\n",
              "\n",
              "[5 rows x 9 columns]"
            ]
          },
          "metadata": {
            "tags": []
          },
          "execution_count": 83
        }
      ]
    },
    {
      "cell_type": "code",
      "metadata": {
        "id": "pBq_QFXkhsIF"
      },
      "source": [
        "cluster_0 = road_data[road_data['cluster']==0].copy()\n",
        "cluster_1 = road_data[road_data['cluster']==1].copy()\n",
        "cluster_2 = road_data[road_data['cluster']==2].copy()\n",
        "cluster_3 = road_data[road_data['cluster']==3].copy()\n",
        "cluster_4 = road_data[road_data['cluster']==4].copy()\n",
        "\n"
      ],
      "execution_count": null,
      "outputs": []
    },
    {
      "cell_type": "code",
      "metadata": {
        "colab": {
          "base_uri": "https://localhost:8080/",
          "height": 286
        },
        "id": "UYG1lChVieMQ",
        "outputId": "122a7e77-d99c-4198-d80b-515a56b9f15d"
      },
      "source": [
        "cluster_0.describe()"
      ],
      "execution_count": null,
      "outputs": [
        {
          "output_type": "execute_result",
          "data": {
            "text/html": [
              "<div>\n",
              "<style scoped>\n",
              "    .dataframe tbody tr th:only-of-type {\n",
              "        vertical-align: middle;\n",
              "    }\n",
              "\n",
              "    .dataframe tbody tr th {\n",
              "        vertical-align: top;\n",
              "    }\n",
              "\n",
              "    .dataframe thead th {\n",
              "        text-align: right;\n",
              "    }\n",
              "</style>\n",
              "<table border=\"1\" class=\"dataframe\">\n",
              "  <thead>\n",
              "    <tr style=\"text-align: right;\">\n",
              "      <th></th>\n",
              "      <th>linkid</th>\n",
              "      <th>Daily_Aver</th>\n",
              "      <th>Average_Ve</th>\n",
              "      <th>Median_of_</th>\n",
              "      <th>First_Quar</th>\n",
              "      <th>Third_Quar</th>\n",
              "      <th>Func_Class</th>\n",
              "      <th>Speed_Cat</th>\n",
              "      <th>cluster</th>\n",
              "    </tr>\n",
              "  </thead>\n",
              "  <tbody>\n",
              "    <tr>\n",
              "      <th>count</th>\n",
              "      <td>1.106400e+04</td>\n",
              "      <td>11064.000000</td>\n",
              "      <td>11064.000000</td>\n",
              "      <td>11064.000000</td>\n",
              "      <td>11064.000000</td>\n",
              "      <td>11064.000000</td>\n",
              "      <td>11064.000000</td>\n",
              "      <td>11064.000000</td>\n",
              "      <td>11064.0</td>\n",
              "    </tr>\n",
              "    <tr>\n",
              "      <th>mean</th>\n",
              "      <td>9.097398e+08</td>\n",
              "      <td>3820.669071</td>\n",
              "      <td>57.875017</td>\n",
              "      <td>57.506132</td>\n",
              "      <td>44.027853</td>\n",
              "      <td>69.762411</td>\n",
              "      <td>2.627892</td>\n",
              "      <td>4.765907</td>\n",
              "      <td>0.0</td>\n",
              "    </tr>\n",
              "    <tr>\n",
              "      <th>std</th>\n",
              "      <td>2.428032e+08</td>\n",
              "      <td>665.070185</td>\n",
              "      <td>65.863498</td>\n",
              "      <td>25.465938</td>\n",
              "      <td>25.060173</td>\n",
              "      <td>27.207569</td>\n",
              "      <td>0.587698</td>\n",
              "      <td>1.598542</td>\n",
              "      <td>0.0</td>\n",
              "    </tr>\n",
              "    <tr>\n",
              "      <th>min</th>\n",
              "      <td>8.021708e+07</td>\n",
              "      <td>2885.356488</td>\n",
              "      <td>-38.986610</td>\n",
              "      <td>8.000000</td>\n",
              "      <td>0.000000</td>\n",
              "      <td>9.000000</td>\n",
              "      <td>1.000000</td>\n",
              "      <td>2.000000</td>\n",
              "      <td>0.0</td>\n",
              "    </tr>\n",
              "    <tr>\n",
              "      <th>25%</th>\n",
              "      <td>7.374331e+08</td>\n",
              "      <td>3246.641928</td>\n",
              "      <td>38.263267</td>\n",
              "      <td>38.333333</td>\n",
              "      <td>25.000000</td>\n",
              "      <td>49.000000</td>\n",
              "      <td>2.000000</td>\n",
              "      <td>4.000000</td>\n",
              "      <td>0.0</td>\n",
              "    </tr>\n",
              "    <tr>\n",
              "      <th>50%</th>\n",
              "      <td>9.072881e+08</td>\n",
              "      <td>3706.870529</td>\n",
              "      <td>50.769833</td>\n",
              "      <td>51.000000</td>\n",
              "      <td>38.000000</td>\n",
              "      <td>62.000000</td>\n",
              "      <td>3.000000</td>\n",
              "      <td>6.000000</td>\n",
              "      <td>0.0</td>\n",
              "    </tr>\n",
              "    <tr>\n",
              "      <th>75%</th>\n",
              "      <td>1.166900e+09</td>\n",
              "      <td>4309.585340</td>\n",
              "      <td>71.555033</td>\n",
              "      <td>74.000000</td>\n",
              "      <td>57.654167</td>\n",
              "      <td>89.000000</td>\n",
              "      <td>3.000000</td>\n",
              "      <td>6.000000</td>\n",
              "      <td>0.0</td>\n",
              "    </tr>\n",
              "    <tr>\n",
              "      <th>max</th>\n",
              "      <td>1.223327e+09</td>\n",
              "      <td>5341.442997</td>\n",
              "      <td>6357.022296</td>\n",
              "      <td>131.000000</td>\n",
              "      <td>119.000000</td>\n",
              "      <td>456.000000</td>\n",
              "      <td>3.000000</td>\n",
              "      <td>7.000000</td>\n",
              "      <td>0.0</td>\n",
              "    </tr>\n",
              "  </tbody>\n",
              "</table>\n",
              "</div>"
            ],
            "text/plain": [
              "             linkid    Daily_Aver  ...     Speed_Cat  cluster\n",
              "count  1.106400e+04  11064.000000  ...  11064.000000  11064.0\n",
              "mean   9.097398e+08   3820.669071  ...      4.765907      0.0\n",
              "std    2.428032e+08    665.070185  ...      1.598542      0.0\n",
              "min    8.021708e+07   2885.356488  ...      2.000000      0.0\n",
              "25%    7.374331e+08   3246.641928  ...      4.000000      0.0\n",
              "50%    9.072881e+08   3706.870529  ...      6.000000      0.0\n",
              "75%    1.166900e+09   4309.585340  ...      6.000000      0.0\n",
              "max    1.223327e+09   5341.442997  ...      7.000000      0.0\n",
              "\n",
              "[8 rows x 9 columns]"
            ]
          },
          "metadata": {
            "tags": []
          },
          "execution_count": 85
        }
      ]
    },
    {
      "cell_type": "code",
      "metadata": {
        "colab": {
          "base_uri": "https://localhost:8080/",
          "height": 286
        },
        "id": "u-1kehH6iw3k",
        "outputId": "851d7161-364d-47bd-e6e0-e017a3a2cbd1"
      },
      "source": [
        "cluster_1.describe()"
      ],
      "execution_count": null,
      "outputs": [
        {
          "output_type": "execute_result",
          "data": {
            "text/html": [
              "<div>\n",
              "<style scoped>\n",
              "    .dataframe tbody tr th:only-of-type {\n",
              "        vertical-align: middle;\n",
              "    }\n",
              "\n",
              "    .dataframe tbody tr th {\n",
              "        vertical-align: top;\n",
              "    }\n",
              "\n",
              "    .dataframe thead th {\n",
              "        text-align: right;\n",
              "    }\n",
              "</style>\n",
              "<table border=\"1\" class=\"dataframe\">\n",
              "  <thead>\n",
              "    <tr style=\"text-align: right;\">\n",
              "      <th></th>\n",
              "      <th>linkid</th>\n",
              "      <th>Daily_Aver</th>\n",
              "      <th>Average_Ve</th>\n",
              "      <th>Median_of_</th>\n",
              "      <th>First_Quar</th>\n",
              "      <th>Third_Quar</th>\n",
              "      <th>Func_Class</th>\n",
              "      <th>Speed_Cat</th>\n",
              "      <th>cluster</th>\n",
              "    </tr>\n",
              "  </thead>\n",
              "  <tbody>\n",
              "    <tr>\n",
              "      <th>count</th>\n",
              "      <td>1.290000e+02</td>\n",
              "      <td>129.000000</td>\n",
              "      <td>129.000000</td>\n",
              "      <td>129.000000</td>\n",
              "      <td>129.000000</td>\n",
              "      <td>129.000000</td>\n",
              "      <td>129.000000</td>\n",
              "      <td>129.000000</td>\n",
              "      <td>129.0</td>\n",
              "    </tr>\n",
              "    <tr>\n",
              "      <th>mean</th>\n",
              "      <td>9.476591e+08</td>\n",
              "      <td>28520.075367</td>\n",
              "      <td>43.636457</td>\n",
              "      <td>44.575739</td>\n",
              "      <td>32.187686</td>\n",
              "      <td>55.270704</td>\n",
              "      <td>2.930233</td>\n",
              "      <td>5.488372</td>\n",
              "      <td>1.0</td>\n",
              "    </tr>\n",
              "    <tr>\n",
              "      <th>std</th>\n",
              "      <td>2.257102e+08</td>\n",
              "      <td>6759.178583</td>\n",
              "      <td>10.350926</td>\n",
              "      <td>10.867716</td>\n",
              "      <td>11.076032</td>\n",
              "      <td>11.306900</td>\n",
              "      <td>0.284661</td>\n",
              "      <td>0.919547</td>\n",
              "      <td>0.0</td>\n",
              "    </tr>\n",
              "    <tr>\n",
              "      <th>min</th>\n",
              "      <td>5.431038e+08</td>\n",
              "      <td>20871.672846</td>\n",
              "      <td>26.176471</td>\n",
              "      <td>25.000000</td>\n",
              "      <td>11.833333</td>\n",
              "      <td>38.000000</td>\n",
              "      <td>1.000000</td>\n",
              "      <td>2.000000</td>\n",
              "      <td>1.0</td>\n",
              "    </tr>\n",
              "    <tr>\n",
              "      <th>25%</th>\n",
              "      <td>8.074947e+08</td>\n",
              "      <td>22831.021436</td>\n",
              "      <td>36.886307</td>\n",
              "      <td>38.000000</td>\n",
              "      <td>24.500000</td>\n",
              "      <td>47.500000</td>\n",
              "      <td>3.000000</td>\n",
              "      <td>5.000000</td>\n",
              "      <td>1.0</td>\n",
              "    </tr>\n",
              "    <tr>\n",
              "      <th>50%</th>\n",
              "      <td>8.939485e+08</td>\n",
              "      <td>26666.019098</td>\n",
              "      <td>40.904705</td>\n",
              "      <td>42.000000</td>\n",
              "      <td>31.000000</td>\n",
              "      <td>52.750000</td>\n",
              "      <td>3.000000</td>\n",
              "      <td>6.000000</td>\n",
              "      <td>1.0</td>\n",
              "    </tr>\n",
              "    <tr>\n",
              "      <th>75%</th>\n",
              "      <td>1.171072e+09</td>\n",
              "      <td>32018.336864</td>\n",
              "      <td>46.839286</td>\n",
              "      <td>46.750000</td>\n",
              "      <td>36.000000</td>\n",
              "      <td>58.500000</td>\n",
              "      <td>3.000000</td>\n",
              "      <td>6.000000</td>\n",
              "      <td>1.0</td>\n",
              "    </tr>\n",
              "    <tr>\n",
              "      <th>max</th>\n",
              "      <td>1.219613e+09</td>\n",
              "      <td>49309.806935</td>\n",
              "      <td>77.226016</td>\n",
              "      <td>81.500000</td>\n",
              "      <td>69.000000</td>\n",
              "      <td>98.000000</td>\n",
              "      <td>3.000000</td>\n",
              "      <td>6.000000</td>\n",
              "      <td>1.0</td>\n",
              "    </tr>\n",
              "  </tbody>\n",
              "</table>\n",
              "</div>"
            ],
            "text/plain": [
              "             linkid    Daily_Aver  Average_Ve  ...  Func_Class   Speed_Cat  cluster\n",
              "count  1.290000e+02    129.000000  129.000000  ...  129.000000  129.000000    129.0\n",
              "mean   9.476591e+08  28520.075367   43.636457  ...    2.930233    5.488372      1.0\n",
              "std    2.257102e+08   6759.178583   10.350926  ...    0.284661    0.919547      0.0\n",
              "min    5.431038e+08  20871.672846   26.176471  ...    1.000000    2.000000      1.0\n",
              "25%    8.074947e+08  22831.021436   36.886307  ...    3.000000    5.000000      1.0\n",
              "50%    8.939485e+08  26666.019098   40.904705  ...    3.000000    6.000000      1.0\n",
              "75%    1.171072e+09  32018.336864   46.839286  ...    3.000000    6.000000      1.0\n",
              "max    1.219613e+09  49309.806935   77.226016  ...    3.000000    6.000000      1.0\n",
              "\n",
              "[8 rows x 9 columns]"
            ]
          },
          "metadata": {
            "tags": []
          },
          "execution_count": 86
        }
      ]
    },
    {
      "cell_type": "code",
      "metadata": {
        "colab": {
          "base_uri": "https://localhost:8080/",
          "height": 286
        },
        "id": "ubMgErdhiyQ8",
        "outputId": "3a5fd10c-3358-43d8-9ac7-24790b04e0f0"
      },
      "source": [
        "cluster_2.describe()"
      ],
      "execution_count": null,
      "outputs": [
        {
          "output_type": "execute_result",
          "data": {
            "text/html": [
              "<div>\n",
              "<style scoped>\n",
              "    .dataframe tbody tr th:only-of-type {\n",
              "        vertical-align: middle;\n",
              "    }\n",
              "\n",
              "    .dataframe tbody tr th {\n",
              "        vertical-align: top;\n",
              "    }\n",
              "\n",
              "    .dataframe thead th {\n",
              "        text-align: right;\n",
              "    }\n",
              "</style>\n",
              "<table border=\"1\" class=\"dataframe\">\n",
              "  <thead>\n",
              "    <tr style=\"text-align: right;\">\n",
              "      <th></th>\n",
              "      <th>linkid</th>\n",
              "      <th>Daily_Aver</th>\n",
              "      <th>Average_Ve</th>\n",
              "      <th>Median_of_</th>\n",
              "      <th>First_Quar</th>\n",
              "      <th>Third_Quar</th>\n",
              "      <th>Func_Class</th>\n",
              "      <th>Speed_Cat</th>\n",
              "      <th>cluster</th>\n",
              "    </tr>\n",
              "  </thead>\n",
              "  <tbody>\n",
              "    <tr>\n",
              "      <th>count</th>\n",
              "      <td>3.204000e+03</td>\n",
              "      <td>3204.000000</td>\n",
              "      <td>3204.000000</td>\n",
              "      <td>3204.000000</td>\n",
              "      <td>3204.000000</td>\n",
              "      <td>3204.000000</td>\n",
              "      <td>3204.000000</td>\n",
              "      <td>3204.000000</td>\n",
              "      <td>3204.0</td>\n",
              "    </tr>\n",
              "    <tr>\n",
              "      <th>mean</th>\n",
              "      <td>9.062489e+08</td>\n",
              "      <td>6867.225778</td>\n",
              "      <td>59.479609</td>\n",
              "      <td>60.511348</td>\n",
              "      <td>45.830673</td>\n",
              "      <td>72.517023</td>\n",
              "      <td>2.483770</td>\n",
              "      <td>4.371099</td>\n",
              "      <td>2.0</td>\n",
              "    </tr>\n",
              "    <tr>\n",
              "      <th>std</th>\n",
              "      <td>2.407844e+08</td>\n",
              "      <td>1217.825667</td>\n",
              "      <td>27.825519</td>\n",
              "      <td>23.813101</td>\n",
              "      <td>24.123115</td>\n",
              "      <td>24.143968</td>\n",
              "      <td>0.623245</td>\n",
              "      <td>1.588847</td>\n",
              "      <td>0.0</td>\n",
              "    </tr>\n",
              "    <tr>\n",
              "      <th>min</th>\n",
              "      <td>8.021682e+07</td>\n",
              "      <td>5342.453359</td>\n",
              "      <td>-401.703724</td>\n",
              "      <td>7.000000</td>\n",
              "      <td>2.000000</td>\n",
              "      <td>7.000000</td>\n",
              "      <td>1.000000</td>\n",
              "      <td>2.000000</td>\n",
              "      <td>2.0</td>\n",
              "    </tr>\n",
              "    <tr>\n",
              "      <th>25%</th>\n",
              "      <td>7.274327e+08</td>\n",
              "      <td>5836.199763</td>\n",
              "      <td>40.916461</td>\n",
              "      <td>41.000000</td>\n",
              "      <td>27.000000</td>\n",
              "      <td>51.729167</td>\n",
              "      <td>2.000000</td>\n",
              "      <td>3.000000</td>\n",
              "      <td>2.0</td>\n",
              "    </tr>\n",
              "    <tr>\n",
              "      <th>50%</th>\n",
              "      <td>9.076187e+08</td>\n",
              "      <td>6558.236789</td>\n",
              "      <td>58.062047</td>\n",
              "      <td>59.750000</td>\n",
              "      <td>42.000000</td>\n",
              "      <td>74.000000</td>\n",
              "      <td>3.000000</td>\n",
              "      <td>4.000000</td>\n",
              "      <td>2.0</td>\n",
              "    </tr>\n",
              "    <tr>\n",
              "      <th>75%</th>\n",
              "      <td>1.165838e+09</td>\n",
              "      <td>7682.586059</td>\n",
              "      <td>74.276946</td>\n",
              "      <td>77.000000</td>\n",
              "      <td>61.687500</td>\n",
              "      <td>90.785714</td>\n",
              "      <td>3.000000</td>\n",
              "      <td>6.000000</td>\n",
              "      <td>2.0</td>\n",
              "    </tr>\n",
              "    <tr>\n",
              "      <th>max</th>\n",
              "      <td>1.223173e+09</td>\n",
              "      <td>9898.259199</td>\n",
              "      <td>841.764173</td>\n",
              "      <td>126.000000</td>\n",
              "      <td>115.000000</td>\n",
              "      <td>135.000000</td>\n",
              "      <td>3.000000</td>\n",
              "      <td>7.000000</td>\n",
              "      <td>2.0</td>\n",
              "    </tr>\n",
              "  </tbody>\n",
              "</table>\n",
              "</div>"
            ],
            "text/plain": [
              "             linkid   Daily_Aver  ...    Speed_Cat  cluster\n",
              "count  3.204000e+03  3204.000000  ...  3204.000000   3204.0\n",
              "mean   9.062489e+08  6867.225778  ...     4.371099      2.0\n",
              "std    2.407844e+08  1217.825667  ...     1.588847      0.0\n",
              "min    8.021682e+07  5342.453359  ...     2.000000      2.0\n",
              "25%    7.274327e+08  5836.199763  ...     3.000000      2.0\n",
              "50%    9.076187e+08  6558.236789  ...     4.000000      2.0\n",
              "75%    1.165838e+09  7682.586059  ...     6.000000      2.0\n",
              "max    1.223173e+09  9898.259199  ...     7.000000      2.0\n",
              "\n",
              "[8 rows x 9 columns]"
            ]
          },
          "metadata": {
            "tags": []
          },
          "execution_count": 87
        }
      ]
    },
    {
      "cell_type": "code",
      "metadata": {
        "colab": {
          "base_uri": "https://localhost:8080/",
          "height": 286
        },
        "id": "eECwZ6I3j4hw",
        "outputId": "7b2be09e-2c6a-40a7-fc04-8d8e28110148"
      },
      "source": [
        "cluster_3.describe()"
      ],
      "execution_count": null,
      "outputs": [
        {
          "output_type": "execute_result",
          "data": {
            "text/html": [
              "<div>\n",
              "<style scoped>\n",
              "    .dataframe tbody tr th:only-of-type {\n",
              "        vertical-align: middle;\n",
              "    }\n",
              "\n",
              "    .dataframe tbody tr th {\n",
              "        vertical-align: top;\n",
              "    }\n",
              "\n",
              "    .dataframe thead th {\n",
              "        text-align: right;\n",
              "    }\n",
              "</style>\n",
              "<table border=\"1\" class=\"dataframe\">\n",
              "  <thead>\n",
              "    <tr style=\"text-align: right;\">\n",
              "      <th></th>\n",
              "      <th>linkid</th>\n",
              "      <th>Daily_Aver</th>\n",
              "      <th>Average_Ve</th>\n",
              "      <th>Median_of_</th>\n",
              "      <th>First_Quar</th>\n",
              "      <th>Third_Quar</th>\n",
              "      <th>Func_Class</th>\n",
              "      <th>Speed_Cat</th>\n",
              "      <th>cluster</th>\n",
              "    </tr>\n",
              "  </thead>\n",
              "  <tbody>\n",
              "    <tr>\n",
              "      <th>count</th>\n",
              "      <td>7.540000e+02</td>\n",
              "      <td>754.000000</td>\n",
              "      <td>754.000000</td>\n",
              "      <td>754.000000</td>\n",
              "      <td>754.000000</td>\n",
              "      <td>754.000000</td>\n",
              "      <td>754.000000</td>\n",
              "      <td>754.000000</td>\n",
              "      <td>754.0</td>\n",
              "    </tr>\n",
              "    <tr>\n",
              "      <th>mean</th>\n",
              "      <td>9.044088e+08</td>\n",
              "      <td>12939.734227</td>\n",
              "      <td>62.676038</td>\n",
              "      <td>59.797101</td>\n",
              "      <td>45.935575</td>\n",
              "      <td>71.025097</td>\n",
              "      <td>2.477454</td>\n",
              "      <td>4.412467</td>\n",
              "      <td>3.0</td>\n",
              "    </tr>\n",
              "    <tr>\n",
              "      <th>std</th>\n",
              "      <td>2.261353e+08</td>\n",
              "      <td>2547.515829</td>\n",
              "      <td>108.789471</td>\n",
              "      <td>21.029416</td>\n",
              "      <td>21.051692</td>\n",
              "      <td>22.385400</td>\n",
              "      <td>0.645874</td>\n",
              "      <td>1.490440</td>\n",
              "      <td>0.0</td>\n",
              "    </tr>\n",
              "    <tr>\n",
              "      <th>min</th>\n",
              "      <td>8.021782e+07</td>\n",
              "      <td>9907.872980</td>\n",
              "      <td>3.000000</td>\n",
              "      <td>3.000000</td>\n",
              "      <td>3.000000</td>\n",
              "      <td>3.000000</td>\n",
              "      <td>1.000000</td>\n",
              "      <td>2.000000</td>\n",
              "      <td>3.0</td>\n",
              "    </tr>\n",
              "    <tr>\n",
              "      <th>25%</th>\n",
              "      <td>7.353805e+08</td>\n",
              "      <td>10874.007553</td>\n",
              "      <td>44.795586</td>\n",
              "      <td>44.500000</td>\n",
              "      <td>30.000000</td>\n",
              "      <td>52.000000</td>\n",
              "      <td>2.000000</td>\n",
              "      <td>3.000000</td>\n",
              "      <td>3.0</td>\n",
              "    </tr>\n",
              "    <tr>\n",
              "      <th>50%</th>\n",
              "      <td>9.075515e+08</td>\n",
              "      <td>12239.961454</td>\n",
              "      <td>58.266124</td>\n",
              "      <td>61.000000</td>\n",
              "      <td>44.875000</td>\n",
              "      <td>75.000000</td>\n",
              "      <td>3.000000</td>\n",
              "      <td>4.000000</td>\n",
              "      <td>3.0</td>\n",
              "    </tr>\n",
              "    <tr>\n",
              "      <th>75%</th>\n",
              "      <td>1.162740e+09</td>\n",
              "      <td>14351.118314</td>\n",
              "      <td>71.618386</td>\n",
              "      <td>74.000000</td>\n",
              "      <td>59.000000</td>\n",
              "      <td>87.000000</td>\n",
              "      <td>3.000000</td>\n",
              "      <td>6.000000</td>\n",
              "      <td>3.0</td>\n",
              "    </tr>\n",
              "    <tr>\n",
              "      <th>max</th>\n",
              "      <td>1.222705e+09</td>\n",
              "      <td>20618.837417</td>\n",
              "      <td>2988.656021</td>\n",
              "      <td>115.500000</td>\n",
              "      <td>115.500000</td>\n",
              "      <td>119.000000</td>\n",
              "      <td>3.000000</td>\n",
              "      <td>7.000000</td>\n",
              "      <td>3.0</td>\n",
              "    </tr>\n",
              "  </tbody>\n",
              "</table>\n",
              "</div>"
            ],
            "text/plain": [
              "             linkid    Daily_Aver   Average_Ve  ...  Func_Class   Speed_Cat  cluster\n",
              "count  7.540000e+02    754.000000   754.000000  ...  754.000000  754.000000    754.0\n",
              "mean   9.044088e+08  12939.734227    62.676038  ...    2.477454    4.412467      3.0\n",
              "std    2.261353e+08   2547.515829   108.789471  ...    0.645874    1.490440      0.0\n",
              "min    8.021782e+07   9907.872980     3.000000  ...    1.000000    2.000000      3.0\n",
              "25%    7.353805e+08  10874.007553    44.795586  ...    2.000000    3.000000      3.0\n",
              "50%    9.075515e+08  12239.961454    58.266124  ...    3.000000    4.000000      3.0\n",
              "75%    1.162740e+09  14351.118314    71.618386  ...    3.000000    6.000000      3.0\n",
              "max    1.222705e+09  20618.837417  2988.656021  ...    3.000000    7.000000      3.0\n",
              "\n",
              "[8 rows x 9 columns]"
            ]
          },
          "metadata": {
            "tags": []
          },
          "execution_count": 88
        }
      ]
    },
    {
      "cell_type": "code",
      "metadata": {
        "colab": {
          "base_uri": "https://localhost:8080/",
          "height": 286
        },
        "id": "gSP9ltAwj8ZI",
        "outputId": "70eda7fa-4314-487b-d6ee-9084594c0a30"
      },
      "source": [
        "cluster_4.describe()"
      ],
      "execution_count": null,
      "outputs": [
        {
          "output_type": "execute_result",
          "data": {
            "text/html": [
              "<div>\n",
              "<style scoped>\n",
              "    .dataframe tbody tr th:only-of-type {\n",
              "        vertical-align: middle;\n",
              "    }\n",
              "\n",
              "    .dataframe tbody tr th {\n",
              "        vertical-align: top;\n",
              "    }\n",
              "\n",
              "    .dataframe thead th {\n",
              "        text-align: right;\n",
              "    }\n",
              "</style>\n",
              "<table border=\"1\" class=\"dataframe\">\n",
              "  <thead>\n",
              "    <tr style=\"text-align: right;\">\n",
              "      <th></th>\n",
              "      <th>linkid</th>\n",
              "      <th>Daily_Aver</th>\n",
              "      <th>Average_Ve</th>\n",
              "      <th>Median_of_</th>\n",
              "      <th>First_Quar</th>\n",
              "      <th>Third_Quar</th>\n",
              "      <th>Func_Class</th>\n",
              "      <th>Speed_Cat</th>\n",
              "      <th>cluster</th>\n",
              "    </tr>\n",
              "  </thead>\n",
              "  <tbody>\n",
              "    <tr>\n",
              "      <th>count</th>\n",
              "      <td>1.952700e+04</td>\n",
              "      <td>19527.000000</td>\n",
              "      <td>19527.000000</td>\n",
              "      <td>19527.000000</td>\n",
              "      <td>19527.000000</td>\n",
              "      <td>19527.000000</td>\n",
              "      <td>19527.000000</td>\n",
              "      <td>19527.000000</td>\n",
              "      <td>19527.0</td>\n",
              "    </tr>\n",
              "    <tr>\n",
              "      <th>mean</th>\n",
              "      <td>8.855488e+08</td>\n",
              "      <td>1952.624063</td>\n",
              "      <td>55.641188</td>\n",
              "      <td>55.158222</td>\n",
              "      <td>43.371100</td>\n",
              "      <td>66.390653</td>\n",
              "      <td>2.756081</td>\n",
              "      <td>5.086188</td>\n",
              "      <td>4.0</td>\n",
              "    </tr>\n",
              "    <tr>\n",
              "      <th>std</th>\n",
              "      <td>2.304307e+08</td>\n",
              "      <td>554.590927</td>\n",
              "      <td>41.851361</td>\n",
              "      <td>27.170380</td>\n",
              "      <td>24.286992</td>\n",
              "      <td>34.069710</td>\n",
              "      <td>0.472929</td>\n",
              "      <td>1.432098</td>\n",
              "      <td>0.0</td>\n",
              "    </tr>\n",
              "    <tr>\n",
              "      <th>min</th>\n",
              "      <td>8.021686e+07</td>\n",
              "      <td>14.435864</td>\n",
              "      <td>-276.637143</td>\n",
              "      <td>1.000000</td>\n",
              "      <td>-392.500000</td>\n",
              "      <td>1.000000</td>\n",
              "      <td>1.000000</td>\n",
              "      <td>2.000000</td>\n",
              "      <td>4.0</td>\n",
              "    </tr>\n",
              "    <tr>\n",
              "      <th>25%</th>\n",
              "      <td>7.364802e+08</td>\n",
              "      <td>1586.879747</td>\n",
              "      <td>37.851760</td>\n",
              "      <td>38.000000</td>\n",
              "      <td>26.000000</td>\n",
              "      <td>47.000000</td>\n",
              "      <td>3.000000</td>\n",
              "      <td>4.000000</td>\n",
              "      <td>4.0</td>\n",
              "    </tr>\n",
              "    <tr>\n",
              "      <th>50%</th>\n",
              "      <td>9.059712e+08</td>\n",
              "      <td>1988.838600</td>\n",
              "      <td>48.481801</td>\n",
              "      <td>48.500000</td>\n",
              "      <td>38.250000</td>\n",
              "      <td>58.125000</td>\n",
              "      <td>3.000000</td>\n",
              "      <td>6.000000</td>\n",
              "      <td>4.0</td>\n",
              "    </tr>\n",
              "    <tr>\n",
              "      <th>75%</th>\n",
              "      <td>1.054155e+09</td>\n",
              "      <td>2388.186676</td>\n",
              "      <td>66.646918</td>\n",
              "      <td>66.000000</td>\n",
              "      <td>54.000000</td>\n",
              "      <td>80.500000</td>\n",
              "      <td>3.000000</td>\n",
              "      <td>6.000000</td>\n",
              "      <td>4.0</td>\n",
              "    </tr>\n",
              "    <tr>\n",
              "      <th>max</th>\n",
              "      <td>1.223731e+09</td>\n",
              "      <td>2885.143567</td>\n",
              "      <td>3983.178775</td>\n",
              "      <td>1326.250000</td>\n",
              "      <td>143.000000</td>\n",
              "      <td>2605.000000</td>\n",
              "      <td>3.000000</td>\n",
              "      <td>7.000000</td>\n",
              "      <td>4.0</td>\n",
              "    </tr>\n",
              "  </tbody>\n",
              "</table>\n",
              "</div>"
            ],
            "text/plain": [
              "             linkid    Daily_Aver  ...     Speed_Cat  cluster\n",
              "count  1.952700e+04  19527.000000  ...  19527.000000  19527.0\n",
              "mean   8.855488e+08   1952.624063  ...      5.086188      4.0\n",
              "std    2.304307e+08    554.590927  ...      1.432098      0.0\n",
              "min    8.021686e+07     14.435864  ...      2.000000      4.0\n",
              "25%    7.364802e+08   1586.879747  ...      4.000000      4.0\n",
              "50%    9.059712e+08   1988.838600  ...      6.000000      4.0\n",
              "75%    1.054155e+09   2388.186676  ...      6.000000      4.0\n",
              "max    1.223731e+09   2885.143567  ...      7.000000      4.0\n",
              "\n",
              "[8 rows x 9 columns]"
            ]
          },
          "metadata": {
            "tags": []
          },
          "execution_count": 89
        }
      ]
    },
    {
      "cell_type": "markdown",
      "metadata": {
        "id": "CwNUkCE-ksJg"
      },
      "source": [
        "## **Next steps**"
      ]
    },
    {
      "cell_type": "markdown",
      "metadata": {
        "id": "IgJC-cDBk3OL"
      },
      "source": [
        "\n",
        "\n",
        "*   cluster labelling based on avg traffic, median\n",
        "*   Combining Geo data and road data using linkid\n",
        "\n",
        "*   Assign colors\n",
        "*   Plot geo data with colors\n",
        "\n",
        "\n",
        "\n",
        "\n"
      ]
    },
    {
      "cell_type": "markdown",
      "metadata": {
        "id": "gSDath2nr1fq"
      },
      "source": [
        "## Conclusions\n",
        "\n",
        "### Scalability and Impact\n",
        "Tell us how applicable and scalable your solution is if you were to implement it in a city. Identify possible limitations and measure the potential social impact of your solution."
      ]
    },
    {
      "cell_type": "markdown",
      "metadata": {
        "id": "CGmbES9GszEv"
      },
      "source": [
        ""
      ]
    },
    {
      "cell_type": "markdown",
      "metadata": {
        "id": "0XBiBOyAl2Sv"
      },
      "source": [
        "### Future Work\n",
        "Now picture the following scenario: imagine you could have access to any type of data that could help you solve this challenge even better. What would that data be and how would it improve your solution? 🚀"
      ]
    },
    {
      "cell_type": "markdown",
      "metadata": {
        "id": "5gK3heTKl7qz"
      },
      "source": [
        ""
      ]
    }
  ]
}